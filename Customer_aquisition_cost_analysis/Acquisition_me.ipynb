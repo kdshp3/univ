{
 "cells": [
  {
   "cell_type": "code",
   "execution_count": 1,
   "id": "56622712",
   "metadata": {},
   "outputs": [],
   "source": [
    "import numpy as np\n",
    "import pandas as pd\n",
    "import matplotlib.pyplot as plt\n",
    "import seaborn as sns\n",
    "import plotly as px\n",
    "import duckdb"
   ]
  },
  {
   "cell_type": "code",
   "execution_count": 2,
   "id": "853c2c0b",
   "metadata": {
    "scrolled": true
   },
   "outputs": [
    {
     "name": "stdout",
     "output_type": "stream",
     "text": [
      "(60428, 40)\n"
     ]
    },
    {
     "data": {
      "text/html": [
       "<div>\n",
       "<style scoped>\n",
       "    .dataframe tbody tr th:only-of-type {\n",
       "        vertical-align: middle;\n",
       "    }\n",
       "\n",
       "    .dataframe tbody tr th {\n",
       "        vertical-align: top;\n",
       "    }\n",
       "\n",
       "    .dataframe thead th {\n",
       "        text-align: right;\n",
       "    }\n",
       "</style>\n",
       "<table border=\"1\" class=\"dataframe\">\n",
       "  <thead>\n",
       "    <tr style=\"text-align: right;\">\n",
       "      <th></th>\n",
       "      <th>food_category</th>\n",
       "      <th>food_department</th>\n",
       "      <th>food_family</th>\n",
       "      <th>store_sales(in millions)</th>\n",
       "      <th>store_cost(in millions)</th>\n",
       "      <th>unit_sales(in millions)</th>\n",
       "      <th>promotion_name</th>\n",
       "      <th>sales_country</th>\n",
       "      <th>marital_status</th>\n",
       "      <th>gender</th>\n",
       "      <th>...</th>\n",
       "      <th>grocery_sqft</th>\n",
       "      <th>frozen_sqft</th>\n",
       "      <th>meat_sqft</th>\n",
       "      <th>coffee_bar</th>\n",
       "      <th>video_store</th>\n",
       "      <th>salad_bar</th>\n",
       "      <th>prepared_food</th>\n",
       "      <th>florist</th>\n",
       "      <th>media_type</th>\n",
       "      <th>cost</th>\n",
       "    </tr>\n",
       "  </thead>\n",
       "  <tbody>\n",
       "    <tr>\n",
       "      <th>0</th>\n",
       "      <td>Breakfast Foods</td>\n",
       "      <td>Frozen Foods</td>\n",
       "      <td>Food</td>\n",
       "      <td>7.36</td>\n",
       "      <td>2.7232</td>\n",
       "      <td>4.0</td>\n",
       "      <td>Bag Stuffers</td>\n",
       "      <td>USA</td>\n",
       "      <td>M</td>\n",
       "      <td>F</td>\n",
       "      <td>...</td>\n",
       "      <td>18670.0</td>\n",
       "      <td>5415.0</td>\n",
       "      <td>3610.0</td>\n",
       "      <td>1.0</td>\n",
       "      <td>1.0</td>\n",
       "      <td>1.0</td>\n",
       "      <td>1.0</td>\n",
       "      <td>1.0</td>\n",
       "      <td>Daily Paper, Radio</td>\n",
       "      <td>126.62</td>\n",
       "    </tr>\n",
       "    <tr>\n",
       "      <th>1</th>\n",
       "      <td>Breakfast Foods</td>\n",
       "      <td>Frozen Foods</td>\n",
       "      <td>Food</td>\n",
       "      <td>5.52</td>\n",
       "      <td>2.5944</td>\n",
       "      <td>3.0</td>\n",
       "      <td>Cash Register Lottery</td>\n",
       "      <td>USA</td>\n",
       "      <td>M</td>\n",
       "      <td>M</td>\n",
       "      <td>...</td>\n",
       "      <td>18670.0</td>\n",
       "      <td>5415.0</td>\n",
       "      <td>3610.0</td>\n",
       "      <td>1.0</td>\n",
       "      <td>1.0</td>\n",
       "      <td>1.0</td>\n",
       "      <td>1.0</td>\n",
       "      <td>1.0</td>\n",
       "      <td>Daily Paper, Radio</td>\n",
       "      <td>59.86</td>\n",
       "    </tr>\n",
       "    <tr>\n",
       "      <th>2</th>\n",
       "      <td>Breakfast Foods</td>\n",
       "      <td>Frozen Foods</td>\n",
       "      <td>Food</td>\n",
       "      <td>3.68</td>\n",
       "      <td>1.3616</td>\n",
       "      <td>2.0</td>\n",
       "      <td>High Roller Savings</td>\n",
       "      <td>USA</td>\n",
       "      <td>S</td>\n",
       "      <td>F</td>\n",
       "      <td>...</td>\n",
       "      <td>18670.0</td>\n",
       "      <td>5415.0</td>\n",
       "      <td>3610.0</td>\n",
       "      <td>1.0</td>\n",
       "      <td>1.0</td>\n",
       "      <td>1.0</td>\n",
       "      <td>1.0</td>\n",
       "      <td>1.0</td>\n",
       "      <td>Daily Paper, Radio</td>\n",
       "      <td>84.16</td>\n",
       "    </tr>\n",
       "    <tr>\n",
       "      <th>3</th>\n",
       "      <td>Breakfast Foods</td>\n",
       "      <td>Frozen Foods</td>\n",
       "      <td>Food</td>\n",
       "      <td>3.68</td>\n",
       "      <td>1.1776</td>\n",
       "      <td>2.0</td>\n",
       "      <td>Cash Register Lottery</td>\n",
       "      <td>USA</td>\n",
       "      <td>M</td>\n",
       "      <td>F</td>\n",
       "      <td>...</td>\n",
       "      <td>18670.0</td>\n",
       "      <td>5415.0</td>\n",
       "      <td>3610.0</td>\n",
       "      <td>1.0</td>\n",
       "      <td>1.0</td>\n",
       "      <td>1.0</td>\n",
       "      <td>1.0</td>\n",
       "      <td>1.0</td>\n",
       "      <td>In-Store Coupon</td>\n",
       "      <td>95.78</td>\n",
       "    </tr>\n",
       "    <tr>\n",
       "      <th>4</th>\n",
       "      <td>Breakfast Foods</td>\n",
       "      <td>Frozen Foods</td>\n",
       "      <td>Food</td>\n",
       "      <td>4.08</td>\n",
       "      <td>1.4280</td>\n",
       "      <td>3.0</td>\n",
       "      <td>Double Down Sale</td>\n",
       "      <td>USA</td>\n",
       "      <td>M</td>\n",
       "      <td>M</td>\n",
       "      <td>...</td>\n",
       "      <td>18670.0</td>\n",
       "      <td>5415.0</td>\n",
       "      <td>3610.0</td>\n",
       "      <td>1.0</td>\n",
       "      <td>1.0</td>\n",
       "      <td>1.0</td>\n",
       "      <td>1.0</td>\n",
       "      <td>1.0</td>\n",
       "      <td>Radio</td>\n",
       "      <td>50.79</td>\n",
       "    </tr>\n",
       "  </tbody>\n",
       "</table>\n",
       "<p>5 rows × 40 columns</p>\n",
       "</div>"
      ],
      "text/plain": [
       "     food_category food_department food_family  store_sales(in millions)  \\\n",
       "0  Breakfast Foods    Frozen Foods        Food                      7.36   \n",
       "1  Breakfast Foods    Frozen Foods        Food                      5.52   \n",
       "2  Breakfast Foods    Frozen Foods        Food                      3.68   \n",
       "3  Breakfast Foods    Frozen Foods        Food                      3.68   \n",
       "4  Breakfast Foods    Frozen Foods        Food                      4.08   \n",
       "\n",
       "   store_cost(in millions)  unit_sales(in millions)         promotion_name  \\\n",
       "0                   2.7232                      4.0           Bag Stuffers   \n",
       "1                   2.5944                      3.0  Cash Register Lottery   \n",
       "2                   1.3616                      2.0    High Roller Savings   \n",
       "3                   1.1776                      2.0  Cash Register Lottery   \n",
       "4                   1.4280                      3.0       Double Down Sale   \n",
       "\n",
       "  sales_country marital_status gender  ...  grocery_sqft frozen_sqft  \\\n",
       "0           USA              M      F  ...       18670.0      5415.0   \n",
       "1           USA              M      M  ...       18670.0      5415.0   \n",
       "2           USA              S      F  ...       18670.0      5415.0   \n",
       "3           USA              M      F  ...       18670.0      5415.0   \n",
       "4           USA              M      M  ...       18670.0      5415.0   \n",
       "\n",
       "  meat_sqft coffee_bar video_store  salad_bar prepared_food  florist  \\\n",
       "0    3610.0        1.0         1.0        1.0           1.0      1.0   \n",
       "1    3610.0        1.0         1.0        1.0           1.0      1.0   \n",
       "2    3610.0        1.0         1.0        1.0           1.0      1.0   \n",
       "3    3610.0        1.0         1.0        1.0           1.0      1.0   \n",
       "4    3610.0        1.0         1.0        1.0           1.0      1.0   \n",
       "\n",
       "           media_type    cost  \n",
       "0  Daily Paper, Radio  126.62  \n",
       "1  Daily Paper, Radio   59.86  \n",
       "2  Daily Paper, Radio   84.16  \n",
       "3     In-Store Coupon   95.78  \n",
       "4               Radio   50.79  \n",
       "\n",
       "[5 rows x 40 columns]"
      ]
     },
     "execution_count": 2,
     "metadata": {},
     "output_type": "execute_result"
    }
   ],
   "source": [
    "file = 'media_prediction.csv'\n",
    "df = pd.read_csv(file)\n",
    "print(df.shape)\n",
    "df.head()"
   ]
  },
  {
   "cell_type": "code",
   "execution_count": 3,
   "id": "835744a2",
   "metadata": {
    "scrolled": true
   },
   "outputs": [],
   "source": [
    "def dfsql(query):\n",
    "    return duckdb.query(query).df()"
   ]
  },
  {
   "cell_type": "code",
   "execution_count": 4,
   "id": "b51e15f9",
   "metadata": {
    "scrolled": true
   },
   "outputs": [
    {
     "name": "stdout",
     "output_type": "stream",
     "text": [
      "<class 'pandas.core.frame.DataFrame'>\n",
      "RangeIndex: 60428 entries, 0 to 60427\n",
      "Data columns (total 40 columns):\n",
      " #   Column                      Non-Null Count  Dtype  \n",
      "---  ------                      --------------  -----  \n",
      " 0   food_category               60428 non-null  object \n",
      " 1   food_department             60428 non-null  object \n",
      " 2   food_family                 60428 non-null  object \n",
      " 3   store_sales(in millions)    60428 non-null  float64\n",
      " 4   store_cost(in millions)     60428 non-null  float64\n",
      " 5   unit_sales(in millions)     60428 non-null  float64\n",
      " 6   promotion_name              60428 non-null  object \n",
      " 7   sales_country               60428 non-null  object \n",
      " 8   marital_status              60428 non-null  object \n",
      " 9   gender                      60428 non-null  object \n",
      " 10  total_children              60428 non-null  float64\n",
      " 11  education                   60428 non-null  object \n",
      " 12  member_card                 60428 non-null  object \n",
      " 13  occupation                  60428 non-null  object \n",
      " 14  houseowner                  60428 non-null  object \n",
      " 15  avg_cars_at home(approx)    60428 non-null  float64\n",
      " 16  avg. yearly_income          60428 non-null  object \n",
      " 17  num_children_at_home        60428 non-null  float64\n",
      " 18  avg_cars_at home(approx).1  60428 non-null  float64\n",
      " 19  brand_name                  60428 non-null  object \n",
      " 20  SRP                         60428 non-null  float64\n",
      " 21  gross_weight                60428 non-null  float64\n",
      " 22  net_weight                  60428 non-null  float64\n",
      " 23  recyclable_package          60428 non-null  float64\n",
      " 24  low_fat                     60428 non-null  float64\n",
      " 25  units_per_case              60428 non-null  float64\n",
      " 26  store_type                  60428 non-null  object \n",
      " 27  store_city                  60428 non-null  object \n",
      " 28  store_state                 60428 non-null  object \n",
      " 29  store_sqft                  60428 non-null  float64\n",
      " 30  grocery_sqft                60428 non-null  float64\n",
      " 31  frozen_sqft                 60428 non-null  float64\n",
      " 32  meat_sqft                   60428 non-null  float64\n",
      " 33  coffee_bar                  60428 non-null  float64\n",
      " 34  video_store                 60428 non-null  float64\n",
      " 35  salad_bar                   60428 non-null  float64\n",
      " 36  prepared_food               60428 non-null  float64\n",
      " 37  florist                     60428 non-null  float64\n",
      " 38  media_type                  60428 non-null  object \n",
      " 39  cost                        60428 non-null  float64\n",
      "dtypes: float64(23), object(17)\n",
      "memory usage: 18.4+ MB\n"
     ]
    }
   ],
   "source": [
    "df.info() # non-null"
   ]
  },
  {
   "cell_type": "code",
   "execution_count": 5,
   "id": "adeb3fad",
   "metadata": {},
   "outputs": [
    {
     "data": {
      "text/plain": [
       "0"
      ]
     },
     "execution_count": 5,
     "metadata": {},
     "output_type": "execute_result"
    }
   ],
   "source": [
    "df.duplicated().sum() # 중복 레코드 x"
   ]
  },
  {
   "cell_type": "code",
   "execution_count": 6,
   "id": "0c191b3a",
   "metadata": {
    "scrolled": true
   },
   "outputs": [
    {
     "data": {
      "text/html": [
       "<div>\n",
       "<style scoped>\n",
       "    .dataframe tbody tr th:only-of-type {\n",
       "        vertical-align: middle;\n",
       "    }\n",
       "\n",
       "    .dataframe tbody tr th {\n",
       "        vertical-align: top;\n",
       "    }\n",
       "\n",
       "    .dataframe thead th {\n",
       "        text-align: right;\n",
       "    }\n",
       "</style>\n",
       "<table border=\"1\" class=\"dataframe\">\n",
       "  <thead>\n",
       "    <tr style=\"text-align: right;\">\n",
       "      <th></th>\n",
       "      <th>food_category</th>\n",
       "      <th>food_department</th>\n",
       "      <th>food_family</th>\n",
       "      <th>store_sales(in millions)</th>\n",
       "      <th>store_cost(in millions)</th>\n",
       "      <th>unit_sales(in millions)</th>\n",
       "      <th>promotion_name</th>\n",
       "      <th>sales_country</th>\n",
       "      <th>marital_status</th>\n",
       "      <th>gender</th>\n",
       "      <th>...</th>\n",
       "      <th>grocery_sqft</th>\n",
       "      <th>frozen_sqft</th>\n",
       "      <th>meat_sqft</th>\n",
       "      <th>coffee_bar</th>\n",
       "      <th>video_store</th>\n",
       "      <th>salad_bar</th>\n",
       "      <th>prepared_food</th>\n",
       "      <th>florist</th>\n",
       "      <th>media_type</th>\n",
       "      <th>cost</th>\n",
       "    </tr>\n",
       "  </thead>\n",
       "  <tbody>\n",
       "  </tbody>\n",
       "</table>\n",
       "<p>0 rows × 40 columns</p>\n",
       "</div>"
      ],
      "text/plain": [
       "Empty DataFrame\n",
       "Columns: [food_category, food_department, food_family, store_sales(in millions), store_cost(in millions), unit_sales(in millions), promotion_name, sales_country, marital_status, gender, total_children, education, member_card, occupation, houseowner, avg_cars_at home(approx), avg. yearly_income, num_children_at_home, avg_cars_at home(approx).1, brand_name, SRP, gross_weight, net_weight, recyclable_package, low_fat, units_per_case, store_type, store_city, store_state, store_sqft, grocery_sqft, frozen_sqft, meat_sqft, coffee_bar, video_store, salad_bar, prepared_food, florist, media_type, cost]\n",
       "Index: []\n",
       "\n",
       "[0 rows x 40 columns]"
      ]
     },
     "execution_count": 6,
     "metadata": {},
     "output_type": "execute_result"
    }
   ],
   "source": [
    "df[df['cost'] == 0]"
   ]
  },
  {
   "cell_type": "code",
   "execution_count": 7,
   "id": "52e4f471",
   "metadata": {},
   "outputs": [
    {
     "data": {
      "text/plain": [
       "60428"
      ]
     },
     "execution_count": 7,
     "metadata": {},
     "output_type": "execute_result"
    }
   ],
   "source": [
    "(df['avg_cars_at home(approx)'] == df['avg_cars_at home(approx).1']).sum() # 이름이 비슷하다. 알고보니 중복열"
   ]
  },
  {
   "cell_type": "code",
   "execution_count": 8,
   "id": "11cb565d",
   "metadata": {},
   "outputs": [],
   "source": [
    "del df['avg_cars_at home(approx).1']"
   ]
  },
  {
   "cell_type": "code",
   "execution_count": 9,
   "id": "c6f786aa",
   "metadata": {
    "scrolled": true
   },
   "outputs": [
    {
     "data": {
      "text/plain": [
       "food_category                   Breakfast Foods\n",
       "food_department                    Frozen Foods\n",
       "food_family                                Food\n",
       "store_sales(in millions)                   7.36\n",
       "store_cost(in millions)                  2.7232\n",
       "unit_sales(in millions)                     4.0\n",
       "promotion_name                     Bag Stuffers\n",
       "sales_country                               USA\n",
       "marital_status                                M\n",
       "gender                                        F\n",
       "total_children                              1.0\n",
       "education                   Partial High School\n",
       "member_card                              Normal\n",
       "occupation                       Skilled Manual\n",
       "houseowner                                    Y\n",
       "avg_cars_at home(approx)                    1.0\n",
       "avg. yearly_income                  $10K - $30K\n",
       "num_children_at_home                        1.0\n",
       "brand_name                           Carrington\n",
       "SRP                                        1.84\n",
       "gross_weight                               19.7\n",
       "net_weight                                 17.7\n",
       "recyclable_package                          1.0\n",
       "low_fat                                     0.0\n",
       "units_per_case                             17.0\n",
       "store_type                   Deluxe Supermarket\n",
       "store_city                                Salem\n",
       "store_state                                  OR\n",
       "store_sqft                              27694.0\n",
       "grocery_sqft                            18670.0\n",
       "frozen_sqft                              5415.0\n",
       "meat_sqft                                3610.0\n",
       "coffee_bar                                  1.0\n",
       "video_store                                 1.0\n",
       "salad_bar                                   1.0\n",
       "prepared_food                               1.0\n",
       "florist                                     1.0\n",
       "media_type                   Daily Paper, Radio\n",
       "cost                                     126.62\n",
       "Name: 0, dtype: object"
      ]
     },
     "execution_count": 9,
     "metadata": {},
     "output_type": "execute_result"
    }
   ],
   "source": [
    "df.loc[0] # 컬럼은 상품정보, 프로모션 정보, 고객 정보, 지점 정보 등이 섞여있다."
   ]
  },
  {
   "cell_type": "code",
   "execution_count": 10,
   "id": "eac8196b",
   "metadata": {},
   "outputs": [
    {
     "data": {
      "text/plain": [
       "<Axes: >"
      ]
     },
     "execution_count": 10,
     "metadata": {},
     "output_type": "execute_result"
    },
    {
     "data": {
      "image/png": "[encoded data removed]",
      "text/plain": [
       "<Figure size 640x480 with 2 Axes>"
      ]
     },
     "metadata": {},
     "output_type": "display_data"
    }
   ],
   "source": [
    "corr=df[df.columns[[3,4,5]]].corr()\n",
    "sns.heatmap(corr, annot=True) # store_sales, store_cost 아주 강한 상관관계가 보인다."
   ]
  },
  {
   "cell_type": "code",
   "execution_count": 11,
   "id": "99f58903",
   "metadata": {},
   "outputs": [
    {
     "data": {
      "text/plain": [
       "<matplotlib.collections.PathCollection at 0x14fd3e250>"
      ]
     },
     "execution_count": 11,
     "metadata": {},
     "output_type": "execute_result"
    },
    {
     "data": {
      "image/png": "[encoded data removed]",
      "text/plain": [
       "<Figure size 640x480 with 1 Axes>"
      ]
     },
     "metadata": {},
     "output_type": "display_data"
    }
   ],
   "source": [
    "plt.scatter(df['store_sales(in millions)'], df['store_cost(in millions)'])\n",
    "# 각각, 재고의 실제 가격과 재고의 판매가격의 총합인것으로 추측"
   ]
  },
  {
   "cell_type": "code",
   "execution_count": 12,
   "id": "a7b2936d",
   "metadata": {},
   "outputs": [
    {
     "data": {
      "text/plain": [
       "unit_sales(in millions)\n",
       "3.0    27482\n",
       "4.0    16581\n",
       "2.0    13417\n",
       "5.0     2058\n",
       "1.0      864\n",
       "6.0       26\n",
       "Name: count, dtype: int64"
      ]
     },
     "execution_count": 12,
     "metadata": {},
     "output_type": "execute_result"
    }
   ],
   "source": [
    "df['unit_sales(in millions)'].value_counts() # 그렇다면 unit_sales(in millions)은 상품별 지금까지 판매액의 누적 합계인것 같다."
   ]
  },
  {
   "cell_type": "code",
   "execution_count": 13,
   "id": "ec681b60",
   "metadata": {},
   "outputs": [
    {
     "name": "stdout",
     "output_type": "stream",
     "text": [
      "food_category : 45\n",
      "food_department : 22\n",
      "food_family : 3\n",
      "store_sales(in millions) : 1033\n",
      "store_cost(in millions) : 9919\n",
      "unit_sales(in millions) : 6\n",
      "promotion_name : 49\n",
      "sales_country : 3\n",
      "marital_status : 2\n",
      "gender : 2\n",
      "total_children : 6\n",
      "education : 5\n",
      "member_card : 4\n",
      "occupation : 5\n",
      "houseowner : 2\n",
      "avg_cars_at home(approx) : 5\n",
      "avg. yearly_income : 8\n",
      "num_children_at_home : 6\n",
      "brand_name : 111\n",
      "SRP : 315\n",
      "gross_weight : 376\n",
      "net_weight : 332\n",
      "recyclable_package : 2\n",
      "low_fat : 2\n",
      "units_per_case : 36\n",
      "store_type : 5\n",
      "store_city : 19\n",
      "store_state : 10\n",
      "store_sqft : 20\n",
      "grocery_sqft : 20\n",
      "frozen_sqft : 20\n",
      "meat_sqft : 20\n",
      "coffee_bar : 2\n",
      "video_store : 2\n",
      "salad_bar : 2\n",
      "prepared_food : 2\n",
      "florist : 2\n",
      "media_type : 13\n",
      "cost : 328\n"
     ]
    }
   ],
   "source": [
    "for l in df.columns:\n",
    "    print(f'{l} : {df[l].nunique()}') # sqft의 nunique가 20으로 통일된다. 20개 지점에서 수집된 데이터인가보다"
   ]
  },
  {
   "cell_type": "code",
   "execution_count": 14,
   "id": "dc5ba36f",
   "metadata": {},
   "outputs": [],
   "source": [
    "key = df['store_sqft'].unique()\n",
    "id_mapping = {}\n",
    "\n",
    "for i, value in enumerate(key):\n",
    "    id_mapping[value] = i % 20"
   ]
  },
  {
   "cell_type": "code",
   "execution_count": 15,
   "id": "0a532552",
   "metadata": {},
   "outputs": [],
   "source": [
    "df['store_id'] = df['store_sqft'].map(id_mapping) # store_id 열 생성"
   ]
  },
  {
   "cell_type": "code",
   "execution_count": 16,
   "id": "2e254f20",
   "metadata": {
    "scrolled": true
   },
   "outputs": [
    {
     "name": "stdout",
     "output_type": "stream",
     "text": [
      "True True True True True True True True True True True True True True True True True True True True "
     ]
    }
   ],
   "source": [
    "for i in range(len(df['store_id'].unique())):   # store_id 별로 store_type이 일치하는걸 봐선 지점 20개 맞는듯\n",
    "    print(df[df['store_id'] == i]['store_type'].nunique() == 1, end=' ')"
   ]
  },
  {
   "cell_type": "code",
   "execution_count": 17,
   "id": "284c2dff",
   "metadata": {
    "scrolled": true
   },
   "outputs": [],
   "source": [
    "media = df['media_type'].unique()"
   ]
  },
  {
   "cell_type": "markdown",
   "id": "96fd387b",
   "metadata": {},
   "source": [
    "## Cost가 Promotion의 단발성 비용일 때 "
   ]
  },
  {
   "cell_type": "code",
   "execution_count": 18,
   "id": "ef4991e3",
   "metadata": {
    "scrolled": true
   },
   "outputs": [
    {
     "data": {
      "text/plain": [
       "<Axes: >"
      ]
     },
     "execution_count": 18,
     "metadata": {},
     "output_type": "execute_result"
    },
    {
     "data": {
      "image/png": "[encoded data removed]",
      "text/plain": [
       "<Figure size 640x480 with 1 Axes>"
      ]
     },
     "metadata": {},
     "output_type": "display_data"
    }
   ],
   "source": [
    "df['cost'].hist() # TV, Radio 등 미디어로 마케팅하는데 140 달러밖에 들리가 없다. 단위가 생략되었나?"
   ]
  },
  {
   "cell_type": "code",
   "execution_count": 19,
   "id": "0cc1bdc1",
   "metadata": {},
   "outputs": [],
   "source": [
    "media_avg_cost = dfsql('''\n",
    "                            select media_type, avg(cost) as avg_cost \n",
    "                            from df group by media_type order by avg_cost desc\n",
    "                        ''')\n",
    "# avg(cost) = media_type에 대한 평균 cost ( cost가 각 promotion의 단발성 비용이고,\n",
    "                                #       store_sales와 다르게 (in million) 처럼 단위가 생략되었다는 가정을 한다면 )"
   ]
  },
  {
   "cell_type": "code",
   "execution_count": 20,
   "id": "237bf475",
   "metadata": {
    "scrolled": true
   },
   "outputs": [
    {
     "data": {
      "text/html": [
       "<div>\n",
       "<style scoped>\n",
       "    .dataframe tbody tr th:only-of-type {\n",
       "        vertical-align: middle;\n",
       "    }\n",
       "\n",
       "    .dataframe tbody tr th {\n",
       "        vertical-align: top;\n",
       "    }\n",
       "\n",
       "    .dataframe thead th {\n",
       "        text-align: right;\n",
       "    }\n",
       "</style>\n",
       "<table border=\"1\" class=\"dataframe\">\n",
       "  <thead>\n",
       "    <tr style=\"text-align: right;\">\n",
       "      <th></th>\n",
       "      <th>media_type</th>\n",
       "      <th>avg_cost</th>\n",
       "    </tr>\n",
       "  </thead>\n",
       "  <tbody>\n",
       "    <tr>\n",
       "      <th>0</th>\n",
       "      <td>Cash Register Handout</td>\n",
       "      <td>114.935647</td>\n",
       "    </tr>\n",
       "    <tr>\n",
       "      <th>1</th>\n",
       "      <td>Street Handout</td>\n",
       "      <td>108.685326</td>\n",
       "    </tr>\n",
       "    <tr>\n",
       "      <th>2</th>\n",
       "      <td>Sunday Paper, Radio</td>\n",
       "      <td>105.687131</td>\n",
       "    </tr>\n",
       "    <tr>\n",
       "      <th>3</th>\n",
       "      <td>Product Attachment</td>\n",
       "      <td>104.336822</td>\n",
       "    </tr>\n",
       "    <tr>\n",
       "      <th>4</th>\n",
       "      <td>Bulk Mail</td>\n",
       "      <td>104.087744</td>\n",
       "    </tr>\n",
       "    <tr>\n",
       "      <th>5</th>\n",
       "      <td>Sunday Paper</td>\n",
       "      <td>101.230712</td>\n",
       "    </tr>\n",
       "    <tr>\n",
       "      <th>6</th>\n",
       "      <td>In-Store Coupon</td>\n",
       "      <td>99.993493</td>\n",
       "    </tr>\n",
       "    <tr>\n",
       "      <th>7</th>\n",
       "      <td>Daily Paper, Radio</td>\n",
       "      <td>97.971450</td>\n",
       "    </tr>\n",
       "    <tr>\n",
       "      <th>8</th>\n",
       "      <td>Radio</td>\n",
       "      <td>96.703759</td>\n",
       "    </tr>\n",
       "    <tr>\n",
       "      <th>9</th>\n",
       "      <td>Sunday Paper, Radio, TV</td>\n",
       "      <td>90.965377</td>\n",
       "    </tr>\n",
       "    <tr>\n",
       "      <th>10</th>\n",
       "      <td>Daily Paper, Radio, TV</td>\n",
       "      <td>90.753003</td>\n",
       "    </tr>\n",
       "    <tr>\n",
       "      <th>11</th>\n",
       "      <td>Daily Paper</td>\n",
       "      <td>89.223149</td>\n",
       "    </tr>\n",
       "    <tr>\n",
       "      <th>12</th>\n",
       "      <td>TV</td>\n",
       "      <td>85.941692</td>\n",
       "    </tr>\n",
       "  </tbody>\n",
       "</table>\n",
       "</div>"
      ],
      "text/plain": [
       "                 media_type    avg_cost\n",
       "0     Cash Register Handout  114.935647\n",
       "1            Street Handout  108.685326\n",
       "2       Sunday Paper, Radio  105.687131\n",
       "3        Product Attachment  104.336822\n",
       "4                 Bulk Mail  104.087744\n",
       "5              Sunday Paper  101.230712\n",
       "6           In-Store Coupon   99.993493\n",
       "7        Daily Paper, Radio   97.971450\n",
       "8                     Radio   96.703759\n",
       "9   Sunday Paper, Radio, TV   90.965377\n",
       "10   Daily Paper, Radio, TV   90.753003\n",
       "11              Daily Paper   89.223149\n",
       "12                       TV   85.941692"
      ]
     },
     "execution_count": 20,
     "metadata": {},
     "output_type": "execute_result"
    }
   ],
   "source": [
    "media_avg_cost # cost가 행사의 단발성 비용일때 전단지가 TV 광고보다 비싸다는게 이해가 안된다.\n",
    "                  # Cost 열은 그 고객의 Acquisition Cost로 추정된 금액인 것 같다. (프로모션 지출 비용 / 프로모션에 반응한 고객 수)"
   ]
  },
  {
   "cell_type": "markdown",
   "id": "5e782a4c",
   "metadata": {},
   "source": [
    "## Cost가 고객 한명당 획득 금액일 경우"
   ]
  },
  {
   "cell_type": "code",
   "execution_count": 21,
   "id": "32f27301",
   "metadata": {},
   "outputs": [],
   "source": [
    "media_sum_cost = dfsql('''\n",
    "                            select media_type, avg(cost)*count(*) as sum_cost \n",
    "                            from df group by media_type order by sum_cost desc\n",
    "                        ''')"
   ]
  },
  {
   "cell_type": "code",
   "execution_count": 22,
   "id": "8303f899",
   "metadata": {
    "scrolled": true
   },
   "outputs": [
    {
     "data": {
      "text/html": [
       "<div>\n",
       "<style scoped>\n",
       "    .dataframe tbody tr th:only-of-type {\n",
       "        vertical-align: middle;\n",
       "    }\n",
       "\n",
       "    .dataframe tbody tr th {\n",
       "        vertical-align: top;\n",
       "    }\n",
       "\n",
       "    .dataframe thead th {\n",
       "        text-align: right;\n",
       "    }\n",
       "</style>\n",
       "<table border=\"1\" class=\"dataframe\">\n",
       "  <thead>\n",
       "    <tr style=\"text-align: right;\">\n",
       "      <th></th>\n",
       "      <th>media_type</th>\n",
       "      <th>sum_cost</th>\n",
       "    </tr>\n",
       "  </thead>\n",
       "  <tbody>\n",
       "    <tr>\n",
       "      <th>0</th>\n",
       "      <td>Daily Paper, Radio</td>\n",
       "      <td>668165.29</td>\n",
       "    </tr>\n",
       "    <tr>\n",
       "      <th>1</th>\n",
       "      <td>Product Attachment</td>\n",
       "      <td>560393.07</td>\n",
       "    </tr>\n",
       "    <tr>\n",
       "      <th>2</th>\n",
       "      <td>Street Handout</td>\n",
       "      <td>550925.92</td>\n",
       "    </tr>\n",
       "    <tr>\n",
       "      <th>3</th>\n",
       "      <td>Sunday Paper</td>\n",
       "      <td>491880.03</td>\n",
       "    </tr>\n",
       "    <tr>\n",
       "      <th>4</th>\n",
       "      <td>Radio</td>\n",
       "      <td>481584.72</td>\n",
       "    </tr>\n",
       "    <tr>\n",
       "      <th>5</th>\n",
       "      <td>Daily Paper, Radio, TV</td>\n",
       "      <td>479538.87</td>\n",
       "    </tr>\n",
       "    <tr>\n",
       "      <th>6</th>\n",
       "      <td>Cash Register Handout</td>\n",
       "      <td>459972.46</td>\n",
       "    </tr>\n",
       "    <tr>\n",
       "      <th>7</th>\n",
       "      <td>Daily Paper</td>\n",
       "      <td>456733.30</td>\n",
       "    </tr>\n",
       "    <tr>\n",
       "      <th>8</th>\n",
       "      <td>In-Store Coupon</td>\n",
       "      <td>449470.75</td>\n",
       "    </tr>\n",
       "    <tr>\n",
       "      <th>9</th>\n",
       "      <td>Sunday Paper, Radio</td>\n",
       "      <td>428032.88</td>\n",
       "    </tr>\n",
       "    <tr>\n",
       "      <th>10</th>\n",
       "      <td>Bulk Mail</td>\n",
       "      <td>359831.33</td>\n",
       "    </tr>\n",
       "    <tr>\n",
       "      <th>11</th>\n",
       "      <td>TV</td>\n",
       "      <td>307327.49</td>\n",
       "    </tr>\n",
       "    <tr>\n",
       "      <th>12</th>\n",
       "      <td>Sunday Paper, Radio, TV</td>\n",
       "      <td>304370.15</td>\n",
       "    </tr>\n",
       "  </tbody>\n",
       "</table>\n",
       "</div>"
      ],
      "text/plain": [
       "                 media_type   sum_cost\n",
       "0        Daily Paper, Radio  668165.29\n",
       "1        Product Attachment  560393.07\n",
       "2            Street Handout  550925.92\n",
       "3              Sunday Paper  491880.03\n",
       "4                     Radio  481584.72\n",
       "5    Daily Paper, Radio, TV  479538.87\n",
       "6     Cash Register Handout  459972.46\n",
       "7               Daily Paper  456733.30\n",
       "8           In-Store Coupon  449470.75\n",
       "9       Sunday Paper, Radio  428032.88\n",
       "10                Bulk Mail  359831.33\n",
       "11                       TV  307327.49\n",
       "12  Sunday Paper, Radio, TV  304370.15"
      ]
     },
     "execution_count": 22,
     "metadata": {},
     "output_type": "execute_result"
    }
   ],
   "source": [
    "media_sum_cost # media_type 별로 지금까지 지출 금액 # 마케팅 채널로 일간지,라디오를 가장 많이 사용했다."
   ]
  },
  {
   "cell_type": "code",
   "execution_count": 23,
   "id": "735777ff",
   "metadata": {},
   "outputs": [
    {
     "data": {
      "text/plain": [
       "5998226.259999999"
      ]
     },
     "execution_count": 23,
     "metadata": {},
     "output_type": "execute_result"
    }
   ],
   "source": [
    "df['cost'].sum() # Cost열을 모두 합하면 이 회사가 지금껏 지출한 마케팅 금액도 계산할 수 있다.\n",
    "# 북미에 20개의 지점을 두고있는 식품마트라면 600만달러의 마케팅 비용은 납득 가능하다.\n",
    "# Cost 열은 그 고객의 Acquisition Cost\n",
    "# 그런데 왜 멤버카드 등급이 bronze, silver, gold로 나뉘는지는 모르겠다. \n",
    "# 데이터가 고객 별 첫 구매에 대한 정보이고 멤버 카드 등급은 현재 등급이라면 이해가 됨"
   ]
  },
  {
   "cell_type": "markdown",
   "id": "926a3054",
   "metadata": {},
   "source": [
    "# 1. 각 프로모션 별로 몇 회가 진행되었는가?"
   ]
  },
  {
   "cell_type": "code",
   "execution_count": 24,
   "id": "c80969e4",
   "metadata": {},
   "outputs": [],
   "source": [
    "promo_count = dfsql('''\n",
    "                        select promotion_name, count(*) as times\n",
    "                        from (select promotion_name, store_id, cost from df group by promotion_name, store_id, cost)\n",
    "                        group by promotion_name order by times desc\n",
    "                    ''')"
   ]
  },
  {
   "cell_type": "code",
   "execution_count": 25,
   "id": "045d8aeb",
   "metadata": {},
   "outputs": [
    {
     "data": {
      "text/html": [
       "<div>\n",
       "<style scoped>\n",
       "    .dataframe tbody tr th:only-of-type {\n",
       "        vertical-align: middle;\n",
       "    }\n",
       "\n",
       "    .dataframe tbody tr th {\n",
       "        vertical-align: top;\n",
       "    }\n",
       "\n",
       "    .dataframe thead th {\n",
       "        text-align: right;\n",
       "    }\n",
       "</style>\n",
       "<table border=\"1\" class=\"dataframe\">\n",
       "  <thead>\n",
       "    <tr style=\"text-align: right;\">\n",
       "      <th></th>\n",
       "      <th>promotion_name</th>\n",
       "      <th>times</th>\n",
       "    </tr>\n",
       "  </thead>\n",
       "  <tbody>\n",
       "    <tr>\n",
       "      <th>0</th>\n",
       "      <td>Price Winners</td>\n",
       "      <td>16</td>\n",
       "    </tr>\n",
       "    <tr>\n",
       "      <th>1</th>\n",
       "      <td>Two Day Sale</td>\n",
       "      <td>14</td>\n",
       "    </tr>\n",
       "    <tr>\n",
       "      <th>2</th>\n",
       "      <td>Dollar Cutters</td>\n",
       "      <td>12</td>\n",
       "    </tr>\n",
       "    <tr>\n",
       "      <th>3</th>\n",
       "      <td>Save-It Sale</td>\n",
       "      <td>11</td>\n",
       "    </tr>\n",
       "    <tr>\n",
       "      <th>4</th>\n",
       "      <td>Price Destroyers</td>\n",
       "      <td>11</td>\n",
       "    </tr>\n",
       "    <tr>\n",
       "      <th>5</th>\n",
       "      <td>Weekend Markdown</td>\n",
       "      <td>10</td>\n",
       "    </tr>\n",
       "    <tr>\n",
       "      <th>6</th>\n",
       "      <td>Super Duper Savers</td>\n",
       "      <td>10</td>\n",
       "    </tr>\n",
       "    <tr>\n",
       "      <th>7</th>\n",
       "      <td>Double Down Sale</td>\n",
       "      <td>10</td>\n",
       "    </tr>\n",
       "    <tr>\n",
       "      <th>8</th>\n",
       "      <td>Super Savers</td>\n",
       "      <td>10</td>\n",
       "    </tr>\n",
       "    <tr>\n",
       "      <th>9</th>\n",
       "      <td>Go For It</td>\n",
       "      <td>10</td>\n",
       "    </tr>\n",
       "    <tr>\n",
       "      <th>10</th>\n",
       "      <td>One Day Sale</td>\n",
       "      <td>10</td>\n",
       "    </tr>\n",
       "    <tr>\n",
       "      <th>11</th>\n",
       "      <td>Two for One</td>\n",
       "      <td>9</td>\n",
       "    </tr>\n",
       "    <tr>\n",
       "      <th>12</th>\n",
       "      <td>Savings Galore</td>\n",
       "      <td>9</td>\n",
       "    </tr>\n",
       "    <tr>\n",
       "      <th>13</th>\n",
       "      <td>Shelf Clearing Days</td>\n",
       "      <td>9</td>\n",
       "    </tr>\n",
       "    <tr>\n",
       "      <th>14</th>\n",
       "      <td>Free For All</td>\n",
       "      <td>9</td>\n",
       "    </tr>\n",
       "    <tr>\n",
       "      <th>15</th>\n",
       "      <td>Price Savers</td>\n",
       "      <td>9</td>\n",
       "    </tr>\n",
       "    <tr>\n",
       "      <th>16</th>\n",
       "      <td>Big Time Discounts</td>\n",
       "      <td>8</td>\n",
       "    </tr>\n",
       "    <tr>\n",
       "      <th>17</th>\n",
       "      <td>Sales Galore</td>\n",
       "      <td>8</td>\n",
       "    </tr>\n",
       "    <tr>\n",
       "      <th>18</th>\n",
       "      <td>Price Slashers</td>\n",
       "      <td>8</td>\n",
       "    </tr>\n",
       "    <tr>\n",
       "      <th>19</th>\n",
       "      <td>Unbeatable Price Savers</td>\n",
       "      <td>7</td>\n",
       "    </tr>\n",
       "    <tr>\n",
       "      <th>20</th>\n",
       "      <td>High Roller Savings</td>\n",
       "      <td>7</td>\n",
       "    </tr>\n",
       "    <tr>\n",
       "      <th>21</th>\n",
       "      <td>Price Cutters</td>\n",
       "      <td>7</td>\n",
       "    </tr>\n",
       "    <tr>\n",
       "      <th>22</th>\n",
       "      <td>Tip Top Savings</td>\n",
       "      <td>7</td>\n",
       "    </tr>\n",
       "    <tr>\n",
       "      <th>23</th>\n",
       "      <td>Best Savings</td>\n",
       "      <td>7</td>\n",
       "    </tr>\n",
       "    <tr>\n",
       "      <th>24</th>\n",
       "      <td>Big Promo</td>\n",
       "      <td>7</td>\n",
       "    </tr>\n",
       "    <tr>\n",
       "      <th>25</th>\n",
       "      <td>Dimes Off</td>\n",
       "      <td>6</td>\n",
       "    </tr>\n",
       "    <tr>\n",
       "      <th>26</th>\n",
       "      <td>Sales Days</td>\n",
       "      <td>6</td>\n",
       "    </tr>\n",
       "    <tr>\n",
       "      <th>27</th>\n",
       "      <td>Bye Bye Baby</td>\n",
       "      <td>6</td>\n",
       "    </tr>\n",
       "    <tr>\n",
       "      <th>28</th>\n",
       "      <td>Shelf Emptiers</td>\n",
       "      <td>6</td>\n",
       "    </tr>\n",
       "    <tr>\n",
       "      <th>29</th>\n",
       "      <td>Money Savers</td>\n",
       "      <td>6</td>\n",
       "    </tr>\n",
       "    <tr>\n",
       "      <th>30</th>\n",
       "      <td>Three for One</td>\n",
       "      <td>6</td>\n",
       "    </tr>\n",
       "    <tr>\n",
       "      <th>31</th>\n",
       "      <td>Saving Days</td>\n",
       "      <td>6</td>\n",
       "    </tr>\n",
       "    <tr>\n",
       "      <th>32</th>\n",
       "      <td>Pick Your Savings</td>\n",
       "      <td>6</td>\n",
       "    </tr>\n",
       "    <tr>\n",
       "      <th>33</th>\n",
       "      <td>Big Time Savings</td>\n",
       "      <td>5</td>\n",
       "    </tr>\n",
       "    <tr>\n",
       "      <th>34</th>\n",
       "      <td>Sale Winners</td>\n",
       "      <td>5</td>\n",
       "    </tr>\n",
       "    <tr>\n",
       "      <th>35</th>\n",
       "      <td>Green Light Days</td>\n",
       "      <td>5</td>\n",
       "    </tr>\n",
       "    <tr>\n",
       "      <th>36</th>\n",
       "      <td>Bag Stuffers</td>\n",
       "      <td>5</td>\n",
       "    </tr>\n",
       "    <tr>\n",
       "      <th>37</th>\n",
       "      <td>I Cant Believe It Sale</td>\n",
       "      <td>5</td>\n",
       "    </tr>\n",
       "    <tr>\n",
       "      <th>38</th>\n",
       "      <td>Coupon Spectacular</td>\n",
       "      <td>5</td>\n",
       "    </tr>\n",
       "    <tr>\n",
       "      <th>39</th>\n",
       "      <td>You Save Days</td>\n",
       "      <td>5</td>\n",
       "    </tr>\n",
       "    <tr>\n",
       "      <th>40</th>\n",
       "      <td>Mystery Sale</td>\n",
       "      <td>4</td>\n",
       "    </tr>\n",
       "    <tr>\n",
       "      <th>41</th>\n",
       "      <td>Green Light Special</td>\n",
       "      <td>4</td>\n",
       "    </tr>\n",
       "    <tr>\n",
       "      <th>42</th>\n",
       "      <td>Cash Register Lottery</td>\n",
       "      <td>4</td>\n",
       "    </tr>\n",
       "    <tr>\n",
       "      <th>43</th>\n",
       "      <td>Wallet Savers</td>\n",
       "      <td>4</td>\n",
       "    </tr>\n",
       "    <tr>\n",
       "      <th>44</th>\n",
       "      <td>Fantastic Discounts</td>\n",
       "      <td>3</td>\n",
       "    </tr>\n",
       "    <tr>\n",
       "      <th>45</th>\n",
       "      <td>Super Wallet Savers</td>\n",
       "      <td>3</td>\n",
       "    </tr>\n",
       "    <tr>\n",
       "      <th>46</th>\n",
       "      <td>Price Smashers</td>\n",
       "      <td>3</td>\n",
       "    </tr>\n",
       "    <tr>\n",
       "      <th>47</th>\n",
       "      <td>Double Your Savings</td>\n",
       "      <td>3</td>\n",
       "    </tr>\n",
       "    <tr>\n",
       "      <th>48</th>\n",
       "      <td>Dollar Days</td>\n",
       "      <td>2</td>\n",
       "    </tr>\n",
       "  </tbody>\n",
       "</table>\n",
       "</div>"
      ],
      "text/plain": [
       "             promotion_name  times\n",
       "0             Price Winners     16\n",
       "1              Two Day Sale     14\n",
       "2            Dollar Cutters     12\n",
       "3              Save-It Sale     11\n",
       "4          Price Destroyers     11\n",
       "5          Weekend Markdown     10\n",
       "6        Super Duper Savers     10\n",
       "7          Double Down Sale     10\n",
       "8              Super Savers     10\n",
       "9                 Go For It     10\n",
       "10             One Day Sale     10\n",
       "11              Two for One      9\n",
       "12           Savings Galore      9\n",
       "13      Shelf Clearing Days      9\n",
       "14             Free For All      9\n",
       "15             Price Savers      9\n",
       "16       Big Time Discounts      8\n",
       "17             Sales Galore      8\n",
       "18           Price Slashers      8\n",
       "19  Unbeatable Price Savers      7\n",
       "20      High Roller Savings      7\n",
       "21            Price Cutters      7\n",
       "22          Tip Top Savings      7\n",
       "23             Best Savings      7\n",
       "24                Big Promo      7\n",
       "25                Dimes Off      6\n",
       "26               Sales Days      6\n",
       "27             Bye Bye Baby      6\n",
       "28           Shelf Emptiers      6\n",
       "29             Money Savers      6\n",
       "30            Three for One      6\n",
       "31              Saving Days      6\n",
       "32        Pick Your Savings      6\n",
       "33         Big Time Savings      5\n",
       "34             Sale Winners      5\n",
       "35         Green Light Days      5\n",
       "36             Bag Stuffers      5\n",
       "37   I Cant Believe It Sale      5\n",
       "38       Coupon Spectacular      5\n",
       "39            You Save Days      5\n",
       "40             Mystery Sale      4\n",
       "41      Green Light Special      4\n",
       "42    Cash Register Lottery      4\n",
       "43            Wallet Savers      4\n",
       "44      Fantastic Discounts      3\n",
       "45      Super Wallet Savers      3\n",
       "46           Price Smashers      3\n",
       "47      Double Your Savings      3\n",
       "48              Dollar Days      2"
      ]
     },
     "execution_count": 25,
     "metadata": {},
     "output_type": "execute_result"
    }
   ],
   "source": [
    "promo_count"
   ]
  },
  {
   "cell_type": "markdown",
   "id": "dc8f9e82",
   "metadata": {},
   "source": [
    "# 2. 프로모션 별로 참여한 shop 당 고객수, shop 당 비용을 크기순으로 구하시오."
   ]
  },
  {
   "cell_type": "code",
   "execution_count": 26,
   "id": "4def3fd2",
   "metadata": {},
   "outputs": [],
   "source": [
    "promo_list = df['promotion_name'].unique()\n",
    "\n",
    "dfs = []\n",
    "for i in range(len(promo_list)):\n",
    "    globals()['df{}'.format(i)] = df[df['promotion_name'] == promo_list[i]]\n",
    "    dfs.append(globals()['df{}'.format(i)])\n",
    "# promotion name 별로 분류"
   ]
  },
  {
   "cell_type": "code",
   "execution_count": 27,
   "id": "6b24a3b8",
   "metadata": {},
   "outputs": [
    {
     "data": {
      "text/plain": [
       "49"
      ]
     },
     "execution_count": 27,
     "metadata": {},
     "output_type": "execute_result"
    }
   ],
   "source": [
    "promo_dfs = []\n",
    "for i in range(len(dfs)):\n",
    "    globals()['promo_df{}'.format(i)] = dfsql(f''' select store_id, count(*) as num_of_cust, avg(cost) as avg_cost, count(distinct cost) as times\n",
    "                                                from df{i} group by store_id order by num_of_cust desc''')\n",
    "    promo_dfs.append(globals()['promo_df{}'.format(i)])\n",
    "len(promo_dfs)"
   ]
  },
  {
   "cell_type": "code",
   "execution_count": 28,
   "id": "991f3f23",
   "metadata": {},
   "outputs": [
    {
     "name": "stdout",
     "output_type": "stream",
     "text": [
      "High Roller Savings\n"
     ]
    },
    {
     "data": {
      "text/html": [
       "<div>\n",
       "<style scoped>\n",
       "    .dataframe tbody tr th:only-of-type {\n",
       "        vertical-align: middle;\n",
       "    }\n",
       "\n",
       "    .dataframe tbody tr th {\n",
       "        vertical-align: top;\n",
       "    }\n",
       "\n",
       "    .dataframe thead th {\n",
       "        text-align: right;\n",
       "    }\n",
       "</style>\n",
       "<table border=\"1\" class=\"dataframe\">\n",
       "  <thead>\n",
       "    <tr style=\"text-align: right;\">\n",
       "      <th></th>\n",
       "      <th>store_id</th>\n",
       "      <th>num_of_cust</th>\n",
       "      <th>avg_cost</th>\n",
       "      <th>times</th>\n",
       "    </tr>\n",
       "  </thead>\n",
       "  <tbody>\n",
       "    <tr>\n",
       "      <th>0</th>\n",
       "      <td>4</td>\n",
       "      <td>639</td>\n",
       "      <td>101.840000</td>\n",
       "      <td>1</td>\n",
       "    </tr>\n",
       "    <tr>\n",
       "      <th>1</th>\n",
       "      <td>5</td>\n",
       "      <td>342</td>\n",
       "      <td>99.228363</td>\n",
       "      <td>2</td>\n",
       "    </tr>\n",
       "    <tr>\n",
       "      <th>2</th>\n",
       "      <td>0</td>\n",
       "      <td>228</td>\n",
       "      <td>84.160000</td>\n",
       "      <td>1</td>\n",
       "    </tr>\n",
       "    <tr>\n",
       "      <th>3</th>\n",
       "      <td>15</td>\n",
       "      <td>216</td>\n",
       "      <td>121.930000</td>\n",
       "      <td>1</td>\n",
       "    </tr>\n",
       "    <tr>\n",
       "      <th>4</th>\n",
       "      <td>14</td>\n",
       "      <td>174</td>\n",
       "      <td>68.150000</td>\n",
       "      <td>1</td>\n",
       "    </tr>\n",
       "    <tr>\n",
       "      <th>5</th>\n",
       "      <td>6</td>\n",
       "      <td>142</td>\n",
       "      <td>72.610000</td>\n",
       "      <td>1</td>\n",
       "    </tr>\n",
       "  </tbody>\n",
       "</table>\n",
       "</div>"
      ],
      "text/plain": [
       "   store_id  num_of_cust    avg_cost  times\n",
       "0         4          639  101.840000      1\n",
       "1         5          342   99.228363      2\n",
       "2         0          228   84.160000      1\n",
       "3        15          216  121.930000      1\n",
       "4        14          174   68.150000      1\n",
       "5         6          142   72.610000      1"
      ]
     },
     "execution_count": 28,
     "metadata": {},
     "output_type": "execute_result"
    }
   ],
   "source": [
    "def get_promo_df(promo):\n",
    "    i = np.where(df['promotion_name'].unique() == promo)[0][0]\n",
    "    print(df['promotion_name'].unique()[i])\n",
    "    return promo_dfs[i]\n",
    "get_promo_df('High Roller Savings') # High Roller Saving 행사의 지점 별 참여 고객, 비용\n",
    "                # 한 지점에서 진행한 동일한 행사라도 가격이 다른경우가 있다. 행사를 여러번 진행한 경우라고 생각된다."
   ]
  },
  {
   "cell_type": "markdown",
   "id": "799dd49e",
   "metadata": {},
   "source": [
    "# 3. 고효율 프로모션의 특징을 분석하시오."
   ]
  },
  {
   "cell_type": "code",
   "execution_count": 29,
   "id": "1ea9d7a3",
   "metadata": {},
   "outputs": [],
   "source": [
    "# 고객 획득 비용이 적은 프로모션 = 고효율 프로모션\n",
    "avg_cost_rank = dfsql(''' select promotion_name, sum(cost)/count(*) as avg_cost, \n",
    "                                from df group by promotion_name order by avg_cost''')"
   ]
  },
  {
   "cell_type": "code",
   "execution_count": 30,
   "id": "6201b3d0",
   "metadata": {
    "scrolled": true
   },
   "outputs": [
    {
     "data": {
      "text/html": [
       "<div>\n",
       "<style scoped>\n",
       "    .dataframe tbody tr th:only-of-type {\n",
       "        vertical-align: middle;\n",
       "    }\n",
       "\n",
       "    .dataframe tbody tr th {\n",
       "        vertical-align: top;\n",
       "    }\n",
       "\n",
       "    .dataframe thead th {\n",
       "        text-align: right;\n",
       "    }\n",
       "</style>\n",
       "<table border=\"1\" class=\"dataframe\">\n",
       "  <thead>\n",
       "    <tr style=\"text-align: right;\">\n",
       "      <th></th>\n",
       "      <th>promotion_name</th>\n",
       "      <th>avg_cost</th>\n",
       "    </tr>\n",
       "  </thead>\n",
       "  <tbody>\n",
       "    <tr>\n",
       "      <th>0</th>\n",
       "      <td>Price Slashers</td>\n",
       "      <td>69.192283</td>\n",
       "    </tr>\n",
       "    <tr>\n",
       "      <th>1</th>\n",
       "      <td>Wallet Savers</td>\n",
       "      <td>71.939836</td>\n",
       "    </tr>\n",
       "    <tr>\n",
       "      <th>2</th>\n",
       "      <td>Two for One</td>\n",
       "      <td>73.484200</td>\n",
       "    </tr>\n",
       "    <tr>\n",
       "      <th>3</th>\n",
       "      <td>Money Savers</td>\n",
       "      <td>73.720799</td>\n",
       "    </tr>\n",
       "    <tr>\n",
       "      <th>4</th>\n",
       "      <td>Cash Register Lottery</td>\n",
       "      <td>74.734129</td>\n",
       "    </tr>\n",
       "  </tbody>\n",
       "</table>\n",
       "</div>"
      ],
      "text/plain": [
       "          promotion_name   avg_cost\n",
       "0         Price Slashers  69.192283\n",
       "1          Wallet Savers  71.939836\n",
       "2            Two for One  73.484200\n",
       "3           Money Savers  73.720799\n",
       "4  Cash Register Lottery  74.734129"
      ]
     },
     "execution_count": 30,
     "metadata": {},
     "output_type": "execute_result"
    }
   ],
   "source": [
    "avg_cost_rank.head() # 고효율"
   ]
  },
  {
   "cell_type": "code",
   "execution_count": 31,
   "id": "24ebc075",
   "metadata": {},
   "outputs": [
    {
     "data": {
      "text/html": [
       "<div>\n",
       "<style scoped>\n",
       "    .dataframe tbody tr th:only-of-type {\n",
       "        vertical-align: middle;\n",
       "    }\n",
       "\n",
       "    .dataframe tbody tr th {\n",
       "        vertical-align: top;\n",
       "    }\n",
       "\n",
       "    .dataframe thead th {\n",
       "        text-align: right;\n",
       "    }\n",
       "</style>\n",
       "<table border=\"1\" class=\"dataframe\">\n",
       "  <thead>\n",
       "    <tr style=\"text-align: right;\">\n",
       "      <th></th>\n",
       "      <th>promotion_name</th>\n",
       "      <th>avg_cost</th>\n",
       "    </tr>\n",
       "  </thead>\n",
       "  <tbody>\n",
       "    <tr>\n",
       "      <th>44</th>\n",
       "      <td>Three for One</td>\n",
       "      <td>124.155298</td>\n",
       "    </tr>\n",
       "    <tr>\n",
       "      <th>45</th>\n",
       "      <td>Super Wallet Savers</td>\n",
       "      <td>128.602751</td>\n",
       "    </tr>\n",
       "    <tr>\n",
       "      <th>46</th>\n",
       "      <td>Shelf Emptiers</td>\n",
       "      <td>129.375332</td>\n",
       "    </tr>\n",
       "    <tr>\n",
       "      <th>47</th>\n",
       "      <td>Fantastic Discounts</td>\n",
       "      <td>134.337286</td>\n",
       "    </tr>\n",
       "    <tr>\n",
       "      <th>48</th>\n",
       "      <td>Dollar Days</td>\n",
       "      <td>139.827744</td>\n",
       "    </tr>\n",
       "  </tbody>\n",
       "</table>\n",
       "</div>"
      ],
      "text/plain": [
       "         promotion_name    avg_cost\n",
       "44        Three for One  124.155298\n",
       "45  Super Wallet Savers  128.602751\n",
       "46       Shelf Emptiers  129.375332\n",
       "47  Fantastic Discounts  134.337286\n",
       "48          Dollar Days  139.827744"
      ]
     },
     "execution_count": 31,
     "metadata": {},
     "output_type": "execute_result"
    }
   ],
   "source": [
    "avg_cost_rank.tail() # 저효율"
   ]
  },
  {
   "cell_type": "code",
   "execution_count": 32,
   "id": "617b2cac",
   "metadata": {},
   "outputs": [
    {
     "data": {
      "text/plain": [
       "array(['Deluxe Supermarket', 'Supermarket', 'Gourmet Supermarket',\n",
       "       'Small Grocery', 'Mid-Size Grocery'], dtype=object)"
      ]
     },
     "execution_count": 32,
     "metadata": {},
     "output_type": "execute_result"
    }
   ],
   "source": [
    "cate = 'store_type' # 이마트에서 프로모션을 진행하는 것과 이마트 트레이더스에서 프로모션을 진행하는 것에는 효율의 차이가 있을것 같다.\n",
    "category = df[cate].unique()\n",
    "category"
   ]
  },
  {
   "cell_type": "code",
   "execution_count": 33,
   "id": "e23f91f0",
   "metadata": {},
   "outputs": [
    {
     "data": {
      "image/png": "[encoded data removed]",
      "text/plain": [
       "<Figure size 1000x600 with 1 Axes>"
      ]
     },
     "metadata": {},
     "output_type": "display_data"
    }
   ],
   "source": [
    "# 어떤 store에서 진행해야 고효율 프로모션인가\n",
    "best5 = avg_cost_rank.head()['promotion_name'].values\n",
    "best5 = np.append(best5, 'Average')\n",
    "\n",
    "best_table = df[df['promotion_name'].isin(best5)][['promotion_name', 'store_id', 'cost', cate]].drop_duplicates()\n",
    "avg_table = df[['promotion_name', 'store_id', 'cost', cate]].drop_duplicates()\n",
    "avg_dict = avg_table[cate].value_counts().to_dict()\n",
    "for i in range(len(category)): # store_type 별로 \n",
    "    globals()['group{}'.format(i)] = [] \n",
    "    c = category[i] # Deluxe Supermarket\n",
    "    for j in range(len(best5) - 1):  # best5, average ... Price Slashers\n",
    "        tmp_dict = best_table[best_table['promotion_name'] == best5[j]][cate].value_counts().to_dict()\n",
    "        total = promo_count[promo_count['promotion_name'] == best5[j]]['times'].iloc[0]\n",
    "        times = tmp_dict.get(c)\n",
    "        if times == None:\n",
    "            times = 0\n",
    "        rate = times/total\n",
    "        globals()['group{}'.format(i)].append(rate)\n",
    "    globals()['group{}'.format(i)].append(avg_dict.get(c)/avg_table.shape[0])\n",
    "\n",
    "fig, ax = plt.subplots(figsize = (10, 6))\n",
    "\n",
    "bar_width = 0.5/len(category)\n",
    "index = np.arange(len(best5))\n",
    "for k in range(len(category)):\n",
    "    ax.bar(index, globals()['group{}'.format(k)], bar_width, label='{}'.format(category[k]))\n",
    "    index = np.add(index, bar_width)\n",
    "\n",
    "ax.set_title('Store Type Ratio of Best 5')\n",
    "ax.set_xticks(index - bar_width*(len(category)//2 + 1))\n",
    "ax.set_xticklabels(best5)\n",
    "ax.legend()\n",
    "plt.show()\n"
   ]
  },
  {
   "cell_type": "code",
   "execution_count": 34,
   "id": "e5c4c644",
   "metadata": {},
   "outputs": [
    {
     "data": {
      "image/png": "[encoded data removed]",
      "text/plain": [
       "<Figure size 1000x600 with 1 Axes>"
      ]
     },
     "metadata": {},
     "output_type": "display_data"
    }
   ],
   "source": [
    "worst5 = avg_cost_rank.tail()['promotion_name'].values\n",
    "worst5 = np.append(worst5, 'Average')\n",
    "\n",
    "worst_table = df[df['promotion_name'].isin(worst5)][['promotion_name', 'store_id', 'cost', cate]].drop_duplicates()\n",
    "avg_table = df[['promotion_name', 'store_id', 'cost', cate]].drop_duplicates()\n",
    "avg_dict = avg_table[cate].value_counts().to_dict()\n",
    "for i in range(len(category)): # store_type 별로 \n",
    "    globals()['group{}'.format(i)] = [] \n",
    "    c = category[i] # Deluxe Supermarket\n",
    "    for j in range(len(worst5) - 1):  # worst5, average ... Price Slashers\n",
    "        tmp_dict = worst_table[worst_table['promotion_name'] == worst5[j]][cate].value_counts().to_dict()\n",
    "        total = promo_count[promo_count['promotion_name'] == worst5[j]]['times'].iloc[0]\n",
    "        times = tmp_dict.get(c)\n",
    "        if times == None:\n",
    "            times = 0\n",
    "        rate = times/total\n",
    "        globals()['group{}'.format(i)].append(rate)\n",
    "    globals()['group{}'.format(i)].append(avg_dict.get(c)/avg_table.shape[0])\n",
    "\n",
    "fig, ax = plt.subplots(figsize = (10, 6))\n",
    "\n",
    "bar_width = 0.5/len(category)\n",
    "index = np.arange(len(worst5))\n",
    "for k in range(len(category)):\n",
    "    ax.bar(index, globals()['group{}'.format(k)], bar_width, label='{}'.format(category[k]))\n",
    "    index = np.add(index, bar_width)\n",
    "\n",
    "ax.set_title('Store Type Ratio of Worst 5')\n",
    "ax.set_xticks(index - bar_width*(len(category)//2 + 1))\n",
    "ax.set_xticklabels(worst5)\n",
    "ax.legend()\n",
    "plt.show()\n"
   ]
  },
  {
   "cell_type": "markdown",
   "id": "2ac1e0ab",
   "metadata": {},
   "source": [
    "# 프로모션을 진행하는 곳의 Store Type은 아주 유의미 하지 않은 것 같다. \n",
    "    (진행한 store_type 비율이 비슷한 Wallet Savers, Super Wallet Savers   그런데 하나는 Best, 하나는 Worst )\n",
    "    (별개로 Gourmet Supermarket, Grocery에서 프로모션을 많이 진행하면 효율이 좋지 않을수도 있을 것 같다 )\n",
    "## State, Country, 지점 넓이, 타겟 성별, SRP등도 비교해봤는데 유의미하지 않은 것 같다.\n",
    "## 내가 고객이라면 식품마트를 갈 때 가격이 싼 곳을 택할 것 같다.\n",
    "## 그런데 데이터에선 판매가격은 주어지지 않는다(SRP만 주어짐)"
   ]
  },
  {
   "cell_type": "code",
   "execution_count": 35,
   "id": "887c00b9",
   "metadata": {},
   "outputs": [
    {
     "data": {
      "text/html": [
       "<div>\n",
       "<style scoped>\n",
       "    .dataframe tbody tr th:only-of-type {\n",
       "        vertical-align: middle;\n",
       "    }\n",
       "\n",
       "    .dataframe tbody tr th {\n",
       "        vertical-align: top;\n",
       "    }\n",
       "\n",
       "    .dataframe thead th {\n",
       "        text-align: right;\n",
       "    }\n",
       "</style>\n",
       "<table border=\"1\" class=\"dataframe\">\n",
       "  <thead>\n",
       "    <tr style=\"text-align: right;\">\n",
       "      <th></th>\n",
       "      <th>promotion_name</th>\n",
       "      <th>avg_cost</th>\n",
       "      <th>times</th>\n",
       "    </tr>\n",
       "  </thead>\n",
       "  <tbody>\n",
       "    <tr>\n",
       "      <th>0</th>\n",
       "      <td>Price Slashers</td>\n",
       "      <td>69.192283</td>\n",
       "      <td>8</td>\n",
       "    </tr>\n",
       "    <tr>\n",
       "      <th>1</th>\n",
       "      <td>Wallet Savers</td>\n",
       "      <td>71.939836</td>\n",
       "      <td>4</td>\n",
       "    </tr>\n",
       "    <tr>\n",
       "      <th>2</th>\n",
       "      <td>Two for One</td>\n",
       "      <td>73.484200</td>\n",
       "      <td>9</td>\n",
       "    </tr>\n",
       "    <tr>\n",
       "      <th>3</th>\n",
       "      <td>Money Savers</td>\n",
       "      <td>73.720799</td>\n",
       "      <td>6</td>\n",
       "    </tr>\n",
       "    <tr>\n",
       "      <th>4</th>\n",
       "      <td>Cash Register Lottery</td>\n",
       "      <td>74.734129</td>\n",
       "      <td>4</td>\n",
       "    </tr>\n",
       "  </tbody>\n",
       "</table>\n",
       "</div>"
      ],
      "text/plain": [
       "          promotion_name   avg_cost  times\n",
       "0         Price Slashers  69.192283      8\n",
       "1          Wallet Savers  71.939836      4\n",
       "2            Two for One  73.484200      9\n",
       "3           Money Savers  73.720799      6\n",
       "4  Cash Register Lottery  74.734129      4"
      ]
     },
     "execution_count": 35,
     "metadata": {},
     "output_type": "execute_result"
    }
   ],
   "source": [
    "table = pd.merge(avg_cost_rank, promo_count)\n",
    "table.head()"
   ]
  },
  {
   "cell_type": "code",
   "execution_count": 36,
   "id": "41ee256d",
   "metadata": {},
   "outputs": [
    {
     "data": {
      "image/png": "[encoded data removed]",
      "text/plain": [
       "<Figure size 1000x600 with 1 Axes>"
      ]
     },
     "metadata": {},
     "output_type": "display_data"
    }
   ],
   "source": [
    "x = table['avg_cost']\n",
    "y = table['times']\n",
    "plt.figure(figsize=(10, 6))\n",
    "plt.scatter(x, y)\n",
    "\n",
    "\n",
    "for i, label in enumerate(table['promotion_name']):\n",
    "    plt.annotate(label, (x[i], y[i]), fontsize=6)\n",
    "\n",
    "plt.xlabel('Efficiency ( More to the left = better )')    \n",
    "plt.ylabel('Number of Promotion')\n",
    "\n",
    "plt.show()"
   ]
  },
  {
   "cell_type": "code",
   "execution_count": 37,
   "id": "4bc55d06",
   "metadata": {},
   "outputs": [
    {
     "data": {
      "text/plain": [
       "array([[ 1.        , -0.21257266],\n",
       "       [-0.21257266,  1.        ]])"
      ]
     },
     "execution_count": 37,
     "metadata": {},
     "output_type": "execute_result"
    }
   ],
   "source": [
    "np.corrcoef(x, y) # 아주 약한 음의 상관관계, 반응이 좋은 프로모션일수록 많이 진행했을것이니 음의 상관관계가 이해는 된다."
   ]
  },
  {
   "cell_type": "markdown",
   "id": "6ec26e47",
   "metadata": {},
   "source": [
    "### 프로모션의 효율성을 따지려면 프로모션의 내용에 대한 더 자세한 정보(할인율, 시기 등)가 더 필요할 것 같다."
   ]
  },
  {
   "cell_type": "markdown",
   "id": "409c9688",
   "metadata": {},
   "source": [
    "# 4. coffee_bar가 있는 shop과 아닌 shop의 매출 고객수를 비교하시오."
   ]
  },
  {
   "cell_type": "code",
   "execution_count": 38,
   "id": "68cc3aba",
   "metadata": {
    "scrolled": true
   },
   "outputs": [
    {
     "data": {
      "text/plain": [
       "([0, 1, 2, 5, 7, 9, 11, 13, 15, 16, 18, 19], [3, 4, 6, 8, 10, 12, 14, 17])"
      ]
     },
     "execution_count": 38,
     "metadata": {},
     "output_type": "execute_result"
    }
   ],
   "source": [
    "yes_coffee = []\n",
    "no_coffee = []\n",
    "\n",
    "for i in range(len(df['store_id'].unique())):\n",
    "    is_coffee = df[df['store_id'] == i]['coffee_bar'].iloc[0]\n",
    "    if is_coffee:\n",
    "        yes_coffee.append(i)\n",
    "    else:\n",
    "        no_coffee.append(i)\n",
    "\n",
    "yes_coffee, no_coffee # shop_id"
   ]
  },
  {
   "cell_type": "code",
   "execution_count": 39,
   "id": "636549aa",
   "metadata": {},
   "outputs": [
    {
     "data": {
      "text/plain": [
       "3085.0833333333335"
      ]
     },
     "execution_count": 39,
     "metadata": {},
     "output_type": "execute_result"
    }
   ],
   "source": [
    "df[df['store_id'].isin(yes_coffee)].count().iloc[0] / len(yes_coffee) # 커피샵있는 지점 평균 매출고객 수"
   ]
  },
  {
   "cell_type": "code",
   "execution_count": 40,
   "id": "cf9935e4",
   "metadata": {},
   "outputs": [
    {
     "data": {
      "text/plain": [
       "1950.5833333333333"
      ]
     },
     "execution_count": 40,
     "metadata": {},
     "output_type": "execute_result"
    }
   ],
   "source": [
    "df[df['store_id'].isin(no_coffee)].count().iloc[0] / len(yes_coffee) # 커피샵없는 지점 평균 매출고객 수"
   ]
  },
  {
   "cell_type": "code",
   "execution_count": 41,
   "id": "a8dd8172",
   "metadata": {},
   "outputs": [
    {
     "data": {
      "text/html": [
       "<div>\n",
       "<style scoped>\n",
       "    .dataframe tbody tr th:only-of-type {\n",
       "        vertical-align: middle;\n",
       "    }\n",
       "\n",
       "    .dataframe tbody tr th {\n",
       "        vertical-align: top;\n",
       "    }\n",
       "\n",
       "    .dataframe thead th {\n",
       "        text-align: right;\n",
       "    }\n",
       "</style>\n",
       "<table border=\"1\" class=\"dataframe\">\n",
       "  <thead>\n",
       "    <tr style=\"text-align: right;\">\n",
       "      <th></th>\n",
       "      <th>store_id</th>\n",
       "      <th>store_type</th>\n",
       "    </tr>\n",
       "  </thead>\n",
       "  <tbody>\n",
       "    <tr>\n",
       "      <th>0</th>\n",
       "      <td>0</td>\n",
       "      <td>Deluxe Supermarket</td>\n",
       "    </tr>\n",
       "    <tr>\n",
       "      <th>18</th>\n",
       "      <td>1</td>\n",
       "      <td>Deluxe Supermarket</td>\n",
       "    </tr>\n",
       "    <tr>\n",
       "      <th>40</th>\n",
       "      <td>2</td>\n",
       "      <td>Supermarket</td>\n",
       "    </tr>\n",
       "    <tr>\n",
       "      <th>82</th>\n",
       "      <td>5</td>\n",
       "      <td>Gourmet Supermarket</td>\n",
       "    </tr>\n",
       "    <tr>\n",
       "      <th>110</th>\n",
       "      <td>7</td>\n",
       "      <td>Small Grocery</td>\n",
       "    </tr>\n",
       "    <tr>\n",
       "      <th>119</th>\n",
       "      <td>9</td>\n",
       "      <td>Deluxe Supermarket</td>\n",
       "    </tr>\n",
       "    <tr>\n",
       "      <th>139</th>\n",
       "      <td>11</td>\n",
       "      <td>Deluxe Supermarket</td>\n",
       "    </tr>\n",
       "    <tr>\n",
       "      <th>156</th>\n",
       "      <td>13</td>\n",
       "      <td>Deluxe Supermarket</td>\n",
       "    </tr>\n",
       "    <tr>\n",
       "      <th>187</th>\n",
       "      <td>15</td>\n",
       "      <td>Gourmet Supermarket</td>\n",
       "    </tr>\n",
       "    <tr>\n",
       "      <th>189</th>\n",
       "      <td>16</td>\n",
       "      <td>Small Grocery</td>\n",
       "    </tr>\n",
       "    <tr>\n",
       "      <th>193</th>\n",
       "      <td>18</td>\n",
       "      <td>Small Grocery</td>\n",
       "    </tr>\n",
       "    <tr>\n",
       "      <th>194</th>\n",
       "      <td>19</td>\n",
       "      <td>Mid-Size Grocery</td>\n",
       "    </tr>\n",
       "  </tbody>\n",
       "</table>\n",
       "</div>"
      ],
      "text/plain": [
       "     store_id           store_type\n",
       "0           0   Deluxe Supermarket\n",
       "18          1   Deluxe Supermarket\n",
       "40          2          Supermarket\n",
       "82          5  Gourmet Supermarket\n",
       "110         7        Small Grocery\n",
       "119         9   Deluxe Supermarket\n",
       "139        11   Deluxe Supermarket\n",
       "156        13   Deluxe Supermarket\n",
       "187        15  Gourmet Supermarket\n",
       "189        16        Small Grocery\n",
       "193        18        Small Grocery\n",
       "194        19     Mid-Size Grocery"
      ]
     },
     "execution_count": 41,
     "metadata": {},
     "output_type": "execute_result"
    }
   ],
   "source": [
    "df[df['store_id'].isin(yes_coffee)][['store_id','store_type']].drop_duplicates()"
   ]
  },
  {
   "cell_type": "code",
   "execution_count": 42,
   "id": "3a9e4003",
   "metadata": {
    "scrolled": true
   },
   "outputs": [
    {
     "data": {
      "text/html": [
       "<div>\n",
       "<style scoped>\n",
       "    .dataframe tbody tr th:only-of-type {\n",
       "        vertical-align: middle;\n",
       "    }\n",
       "\n",
       "    .dataframe tbody tr th {\n",
       "        vertical-align: top;\n",
       "    }\n",
       "\n",
       "    .dataframe thead th {\n",
       "        text-align: right;\n",
       "    }\n",
       "</style>\n",
       "<table border=\"1\" class=\"dataframe\">\n",
       "  <thead>\n",
       "    <tr style=\"text-align: right;\">\n",
       "      <th></th>\n",
       "      <th>store_id</th>\n",
       "      <th>store_type</th>\n",
       "    </tr>\n",
       "  </thead>\n",
       "  <tbody>\n",
       "    <tr>\n",
       "      <th>58</th>\n",
       "      <td>3</td>\n",
       "      <td>Supermarket</td>\n",
       "    </tr>\n",
       "    <tr>\n",
       "      <th>73</th>\n",
       "      <td>4</td>\n",
       "      <td>Supermarket</td>\n",
       "    </tr>\n",
       "    <tr>\n",
       "      <th>100</th>\n",
       "      <td>6</td>\n",
       "      <td>Supermarket</td>\n",
       "    </tr>\n",
       "    <tr>\n",
       "      <th>113</th>\n",
       "      <td>8</td>\n",
       "      <td>Supermarket</td>\n",
       "    </tr>\n",
       "    <tr>\n",
       "      <th>136</th>\n",
       "      <td>10</td>\n",
       "      <td>Mid-Size Grocery</td>\n",
       "    </tr>\n",
       "    <tr>\n",
       "      <th>152</th>\n",
       "      <td>12</td>\n",
       "      <td>Mid-Size Grocery</td>\n",
       "    </tr>\n",
       "    <tr>\n",
       "      <th>174</th>\n",
       "      <td>14</td>\n",
       "      <td>Supermarket</td>\n",
       "    </tr>\n",
       "    <tr>\n",
       "      <th>191</th>\n",
       "      <td>17</td>\n",
       "      <td>Supermarket</td>\n",
       "    </tr>\n",
       "  </tbody>\n",
       "</table>\n",
       "</div>"
      ],
      "text/plain": [
       "     store_id        store_type\n",
       "58          3       Supermarket\n",
       "73          4       Supermarket\n",
       "100         6       Supermarket\n",
       "113         8       Supermarket\n",
       "136        10  Mid-Size Grocery\n",
       "152        12  Mid-Size Grocery\n",
       "174        14       Supermarket\n",
       "191        17       Supermarket"
      ]
     },
     "execution_count": 42,
     "metadata": {},
     "output_type": "execute_result"
    }
   ],
   "source": [
    "df[df['store_id'].isin(no_coffee)][['store_id','store_type']].drop_duplicates()"
   ]
  },
  {
   "cell_type": "markdown",
   "id": "27eecf86",
   "metadata": {},
   "source": [
    "#### 커피샵이 있는 매장에 고객이 더 많지만, 다른 문제에서  확인해보니까 Deluxe, Gourmet Supermarket의 영향인것 같다. (Grocery 매장의 고객수는 매우 적은편)"
   ]
  },
  {
   "cell_type": "markdown",
   "id": "bf060f58",
   "metadata": {},
   "source": [
    "# 5. prepared_food 가 있는 shop과 아닌 shop의 매출 고객수를 비교하시오."
   ]
  },
  {
   "cell_type": "code",
   "execution_count": 43,
   "id": "6d67c9e3",
   "metadata": {
    "scrolled": true
   },
   "outputs": [
    {
     "data": {
      "text/plain": [
       "([0, 1, 5, 8, 9, 11, 13, 14, 15], [2, 3, 4, 6, 7, 10, 12, 16, 17, 18, 19])"
      ]
     },
     "execution_count": 43,
     "metadata": {},
     "output_type": "execute_result"
    }
   ],
   "source": [
    "yes_pf = [] # pf = prepared food\n",
    "no_pf = []\n",
    "\n",
    "for i in range(len(df['store_id'].unique())):\n",
    "    is_pf = df[df['store_id'] == i]['prepared_food'].iloc[0]\n",
    "    if is_pf:\n",
    "        yes_pf.append(i)\n",
    "    else:\n",
    "        no_pf.append(i)\n",
    "\n",
    "yes_pf, no_pf # shop_id"
   ]
  },
  {
   "cell_type": "code",
   "execution_count": 44,
   "id": "632ee666",
   "metadata": {},
   "outputs": [
    {
     "data": {
      "text/plain": [
       "3947.6666666666665"
      ]
     },
     "execution_count": 44,
     "metadata": {},
     "output_type": "execute_result"
    }
   ],
   "source": [
    "df[df['store_id'].isin(yes_pf)].count().iloc[0] / len(yes_pf) # pf있는 지점 평균 매출고객 수"
   ]
  },
  {
   "cell_type": "code",
   "execution_count": 45,
   "id": "3a72360d",
   "metadata": {
    "scrolled": true
   },
   "outputs": [
    {
     "data": {
      "text/plain": [
       "2766.5555555555557"
      ]
     },
     "execution_count": 45,
     "metadata": {},
     "output_type": "execute_result"
    }
   ],
   "source": [
    "df[df['store_id'].isin(no_pf)].count().iloc[0] / len(yes_pf) # pf없는 지점 평균 매출고객 수"
   ]
  },
  {
   "cell_type": "code",
   "execution_count": 46,
   "id": "dcf6fb9f",
   "metadata": {
    "scrolled": true
   },
   "outputs": [
    {
     "data": {
      "text/html": [
       "<div>\n",
       "<style scoped>\n",
       "    .dataframe tbody tr th:only-of-type {\n",
       "        vertical-align: middle;\n",
       "    }\n",
       "\n",
       "    .dataframe tbody tr th {\n",
       "        vertical-align: top;\n",
       "    }\n",
       "\n",
       "    .dataframe thead th {\n",
       "        text-align: right;\n",
       "    }\n",
       "</style>\n",
       "<table border=\"1\" class=\"dataframe\">\n",
       "  <thead>\n",
       "    <tr style=\"text-align: right;\">\n",
       "      <th></th>\n",
       "      <th>store_id</th>\n",
       "      <th>store_type</th>\n",
       "    </tr>\n",
       "  </thead>\n",
       "  <tbody>\n",
       "    <tr>\n",
       "      <th>0</th>\n",
       "      <td>0</td>\n",
       "      <td>Deluxe Supermarket</td>\n",
       "    </tr>\n",
       "    <tr>\n",
       "      <th>18</th>\n",
       "      <td>1</td>\n",
       "      <td>Deluxe Supermarket</td>\n",
       "    </tr>\n",
       "    <tr>\n",
       "      <th>82</th>\n",
       "      <td>5</td>\n",
       "      <td>Gourmet Supermarket</td>\n",
       "    </tr>\n",
       "    <tr>\n",
       "      <th>113</th>\n",
       "      <td>8</td>\n",
       "      <td>Supermarket</td>\n",
       "    </tr>\n",
       "    <tr>\n",
       "      <th>119</th>\n",
       "      <td>9</td>\n",
       "      <td>Deluxe Supermarket</td>\n",
       "    </tr>\n",
       "    <tr>\n",
       "      <th>139</th>\n",
       "      <td>11</td>\n",
       "      <td>Deluxe Supermarket</td>\n",
       "    </tr>\n",
       "    <tr>\n",
       "      <th>156</th>\n",
       "      <td>13</td>\n",
       "      <td>Deluxe Supermarket</td>\n",
       "    </tr>\n",
       "    <tr>\n",
       "      <th>174</th>\n",
       "      <td>14</td>\n",
       "      <td>Supermarket</td>\n",
       "    </tr>\n",
       "    <tr>\n",
       "      <th>187</th>\n",
       "      <td>15</td>\n",
       "      <td>Gourmet Supermarket</td>\n",
       "    </tr>\n",
       "  </tbody>\n",
       "</table>\n",
       "</div>"
      ],
      "text/plain": [
       "     store_id           store_type\n",
       "0           0   Deluxe Supermarket\n",
       "18          1   Deluxe Supermarket\n",
       "82          5  Gourmet Supermarket\n",
       "113         8          Supermarket\n",
       "119         9   Deluxe Supermarket\n",
       "139        11   Deluxe Supermarket\n",
       "156        13   Deluxe Supermarket\n",
       "174        14          Supermarket\n",
       "187        15  Gourmet Supermarket"
      ]
     },
     "execution_count": 46,
     "metadata": {},
     "output_type": "execute_result"
    }
   ],
   "source": [
    "df[df['store_id'].isin(yes_pf)][['store_id','store_type']].drop_duplicates()"
   ]
  },
  {
   "cell_type": "code",
   "execution_count": 47,
   "id": "71b4530e",
   "metadata": {},
   "outputs": [
    {
     "data": {
      "text/html": [
       "<div>\n",
       "<style scoped>\n",
       "    .dataframe tbody tr th:only-of-type {\n",
       "        vertical-align: middle;\n",
       "    }\n",
       "\n",
       "    .dataframe tbody tr th {\n",
       "        vertical-align: top;\n",
       "    }\n",
       "\n",
       "    .dataframe thead th {\n",
       "        text-align: right;\n",
       "    }\n",
       "</style>\n",
       "<table border=\"1\" class=\"dataframe\">\n",
       "  <thead>\n",
       "    <tr style=\"text-align: right;\">\n",
       "      <th></th>\n",
       "      <th>store_id</th>\n",
       "      <th>store_type</th>\n",
       "    </tr>\n",
       "  </thead>\n",
       "  <tbody>\n",
       "    <tr>\n",
       "      <th>40</th>\n",
       "      <td>2</td>\n",
       "      <td>Supermarket</td>\n",
       "    </tr>\n",
       "    <tr>\n",
       "      <th>58</th>\n",
       "      <td>3</td>\n",
       "      <td>Supermarket</td>\n",
       "    </tr>\n",
       "    <tr>\n",
       "      <th>73</th>\n",
       "      <td>4</td>\n",
       "      <td>Supermarket</td>\n",
       "    </tr>\n",
       "    <tr>\n",
       "      <th>100</th>\n",
       "      <td>6</td>\n",
       "      <td>Supermarket</td>\n",
       "    </tr>\n",
       "    <tr>\n",
       "      <th>110</th>\n",
       "      <td>7</td>\n",
       "      <td>Small Grocery</td>\n",
       "    </tr>\n",
       "    <tr>\n",
       "      <th>136</th>\n",
       "      <td>10</td>\n",
       "      <td>Mid-Size Grocery</td>\n",
       "    </tr>\n",
       "    <tr>\n",
       "      <th>152</th>\n",
       "      <td>12</td>\n",
       "      <td>Mid-Size Grocery</td>\n",
       "    </tr>\n",
       "    <tr>\n",
       "      <th>189</th>\n",
       "      <td>16</td>\n",
       "      <td>Small Grocery</td>\n",
       "    </tr>\n",
       "    <tr>\n",
       "      <th>191</th>\n",
       "      <td>17</td>\n",
       "      <td>Supermarket</td>\n",
       "    </tr>\n",
       "    <tr>\n",
       "      <th>193</th>\n",
       "      <td>18</td>\n",
       "      <td>Small Grocery</td>\n",
       "    </tr>\n",
       "    <tr>\n",
       "      <th>194</th>\n",
       "      <td>19</td>\n",
       "      <td>Mid-Size Grocery</td>\n",
       "    </tr>\n",
       "  </tbody>\n",
       "</table>\n",
       "</div>"
      ],
      "text/plain": [
       "     store_id        store_type\n",
       "40          2       Supermarket\n",
       "58          3       Supermarket\n",
       "73          4       Supermarket\n",
       "100         6       Supermarket\n",
       "110         7     Small Grocery\n",
       "136        10  Mid-Size Grocery\n",
       "152        12  Mid-Size Grocery\n",
       "189        16     Small Grocery\n",
       "191        17       Supermarket\n",
       "193        18     Small Grocery\n",
       "194        19  Mid-Size Grocery"
      ]
     },
     "execution_count": 47,
     "metadata": {},
     "output_type": "execute_result"
    }
   ],
   "source": [
    "df[df['store_id'].isin(no_pf)][['store_id','store_type']].drop_duplicates()"
   ]
  },
  {
   "cell_type": "markdown",
   "id": "c5cfeaae",
   "metadata": {},
   "source": [
    "### Deluxe, Gourmet 같은 고급화 매장에 pf가 많다. \n",
    "#### Prepared_food가 있어서 고객이 많다기 보다는, 고급화 매장이라 고객이 많고, Prepared_food도 있는 것 같다.\n",
    "#### 중소형 사이즈의 매장에는 pf가 없다. (small, mid-size --> 고객도 적음)"
   ]
  },
  {
   "cell_type": "markdown",
   "id": "7a72c6aa",
   "metadata": {},
   "source": [
    "# 6. 샵 크기와 고객수의 관계를 분석하시오"
   ]
  },
  {
   "cell_type": "code",
   "execution_count": 48,
   "id": "18df1e42",
   "metadata": {},
   "outputs": [],
   "source": [
    "# 아까 store_id와 store_sqft는 1대1 대응임을 확인 했음\n",
    "sqft_cust = dfsql('''\n",
    "                    select store_id, min(store_sqft) as sqft, count(*) as num_of_cust from df \n",
    "                    group by store_id order by store_id\n",
    "                    ''') #min, max, avg 모두 똑같이 나온다. "
   ]
  },
  {
   "cell_type": "code",
   "execution_count": 49,
   "id": "1a69498e",
   "metadata": {},
   "outputs": [
    {
     "data": {
      "text/html": [
       "<div>\n",
       "<style scoped>\n",
       "    .dataframe tbody tr th:only-of-type {\n",
       "        vertical-align: middle;\n",
       "    }\n",
       "\n",
       "    .dataframe tbody tr th {\n",
       "        vertical-align: top;\n",
       "    }\n",
       "\n",
       "    .dataframe thead th {\n",
       "        text-align: right;\n",
       "    }\n",
       "</style>\n",
       "<table border=\"1\" class=\"dataframe\">\n",
       "  <thead>\n",
       "    <tr style=\"text-align: right;\">\n",
       "      <th></th>\n",
       "      <th>store_id</th>\n",
       "      <th>sqft</th>\n",
       "      <th>num_of_cust</th>\n",
       "    </tr>\n",
       "  </thead>\n",
       "  <tbody>\n",
       "    <tr>\n",
       "      <th>0</th>\n",
       "      <td>0</td>\n",
       "      <td>27694.0</td>\n",
       "      <td>5478</td>\n",
       "    </tr>\n",
       "    <tr>\n",
       "      <th>1</th>\n",
       "      <td>1</td>\n",
       "      <td>33858.0</td>\n",
       "      <td>5704</td>\n",
       "    </tr>\n",
       "    <tr>\n",
       "      <th>2</th>\n",
       "      <td>2</td>\n",
       "      <td>21215.0</td>\n",
       "      <td>5051</td>\n",
       "    </tr>\n",
       "    <tr>\n",
       "      <th>3</th>\n",
       "      <td>3</td>\n",
       "      <td>30268.0</td>\n",
       "      <td>4453</td>\n",
       "    </tr>\n",
       "    <tr>\n",
       "      <th>4</th>\n",
       "      <td>4</td>\n",
       "      <td>23598.0</td>\n",
       "      <td>3960</td>\n",
       "    </tr>\n",
       "  </tbody>\n",
       "</table>\n",
       "</div>"
      ],
      "text/plain": [
       "   store_id     sqft  num_of_cust\n",
       "0         0  27694.0         5478\n",
       "1         1  33858.0         5704\n",
       "2         2  21215.0         5051\n",
       "3         3  30268.0         4453\n",
       "4         4  23598.0         3960"
      ]
     },
     "execution_count": 49,
     "metadata": {},
     "output_type": "execute_result"
    }
   ],
   "source": [
    "sqft_cust.head()"
   ]
  },
  {
   "cell_type": "code",
   "execution_count": 50,
   "id": "1766cd9f",
   "metadata": {},
   "outputs": [
    {
     "data": {
      "image/png": "[encoded data removed]",
      "text/plain": [
       "<Figure size 1000x600 with 1 Axes>"
      ]
     },
     "metadata": {},
     "output_type": "display_data"
    }
   ],
   "source": [
    "x = sqft_cust['sqft']\n",
    "y = sqft_cust['num_of_cust']\n",
    "plt.figure(figsize=(10, 6))\n",
    "plt.scatter(x, y)\n",
    "\n",
    "for i, label in enumerate(sqft_cust['store_id']):\n",
    "    plt.annotate(label, (x[i], y[i]), fontsize=10)"
   ]
  },
  {
   "cell_type": "code",
   "execution_count": 51,
   "id": "099eef5c",
   "metadata": {},
   "outputs": [
    {
     "data": {
      "text/plain": [
       "array([[ 1.        , -0.17103207],\n",
       "       [-0.17103207,  1.        ]])"
      ]
     },
     "execution_count": 51,
     "metadata": {},
     "output_type": "execute_result"
    }
   ],
   "source": [
    "np.corrcoef(x, y) # 예상 외로 음의 상관관계를 보인다.\n",
    "                    # 미국은 땅이 커서 그런가?"
   ]
  },
  {
   "cell_type": "code",
   "execution_count": 52,
   "id": "dfef59cc",
   "metadata": {},
   "outputs": [],
   "source": [
    "tmp = df[['store_id', 'store_type']].drop_duplicates()"
   ]
  },
  {
   "cell_type": "code",
   "execution_count": 53,
   "id": "4a4558ba",
   "metadata": {},
   "outputs": [
    {
     "data": {
      "text/html": [
       "<div>\n",
       "<style scoped>\n",
       "    .dataframe tbody tr th:only-of-type {\n",
       "        vertical-align: middle;\n",
       "    }\n",
       "\n",
       "    .dataframe tbody tr th {\n",
       "        vertical-align: top;\n",
       "    }\n",
       "\n",
       "    .dataframe thead th {\n",
       "        text-align: right;\n",
       "    }\n",
       "</style>\n",
       "<table border=\"1\" class=\"dataframe\">\n",
       "  <thead>\n",
       "    <tr style=\"text-align: right;\">\n",
       "      <th></th>\n",
       "      <th>store_id</th>\n",
       "      <th>sqft</th>\n",
       "      <th>num_of_cust</th>\n",
       "      <th>store_type</th>\n",
       "    </tr>\n",
       "  </thead>\n",
       "  <tbody>\n",
       "    <tr>\n",
       "      <th>0</th>\n",
       "      <td>0</td>\n",
       "      <td>27694.0</td>\n",
       "      <td>5478</td>\n",
       "      <td>Deluxe Supermarket</td>\n",
       "    </tr>\n",
       "    <tr>\n",
       "      <th>1</th>\n",
       "      <td>1</td>\n",
       "      <td>33858.0</td>\n",
       "      <td>5704</td>\n",
       "      <td>Deluxe Supermarket</td>\n",
       "    </tr>\n",
       "    <tr>\n",
       "      <th>2</th>\n",
       "      <td>2</td>\n",
       "      <td>21215.0</td>\n",
       "      <td>5051</td>\n",
       "      <td>Supermarket</td>\n",
       "    </tr>\n",
       "    <tr>\n",
       "      <th>3</th>\n",
       "      <td>3</td>\n",
       "      <td>30268.0</td>\n",
       "      <td>4453</td>\n",
       "      <td>Supermarket</td>\n",
       "    </tr>\n",
       "    <tr>\n",
       "      <th>4</th>\n",
       "      <td>4</td>\n",
       "      <td>23598.0</td>\n",
       "      <td>3960</td>\n",
       "      <td>Supermarket</td>\n",
       "    </tr>\n",
       "  </tbody>\n",
       "</table>\n",
       "</div>"
      ],
      "text/plain": [
       "   store_id     sqft  num_of_cust          store_type\n",
       "0         0  27694.0         5478  Deluxe Supermarket\n",
       "1         1  33858.0         5704  Deluxe Supermarket\n",
       "2         2  21215.0         5051         Supermarket\n",
       "3         3  30268.0         4453         Supermarket\n",
       "4         4  23598.0         3960         Supermarket"
      ]
     },
     "execution_count": 53,
     "metadata": {},
     "output_type": "execute_result"
    }
   ],
   "source": [
    "sqft_type = pd.merge(sqft_cust, tmp)\n",
    "sqft_type.head()"
   ]
  },
  {
   "cell_type": "code",
   "execution_count": 54,
   "id": "3070f4b8",
   "metadata": {},
   "outputs": [
    {
     "data": {
      "image/png": "[encoded data removed]",
      "text/plain": [
       "<Figure size 1000x600 with 1 Axes>"
      ]
     },
     "metadata": {},
     "output_type": "display_data"
    }
   ],
   "source": [
    "x = sqft_type['sqft']\n",
    "y = sqft_type['num_of_cust']\n",
    "plt.figure(figsize=(10, 6))\n",
    "plt.scatter(x, y)\n",
    "\n",
    "plt.xlabel('Area of store')\n",
    "plt.ylabel('Num of cust')\n",
    "for i, label in enumerate(sqft_type['store_type']):\n",
    "    plt.annotate(label, (x[i], y[i]), fontsize=10)\n",
    "    \n",
    "plt.show()"
   ]
  },
  {
   "cell_type": "markdown",
   "id": "a3fc1a3a",
   "metadata": {},
   "source": [
    "#### 고객수는 매장의 넓이보단 매장의 형태 (Grocery, Supermarket)에서 고객수의 차이가 나타난다."
   ]
  },
  {
   "cell_type": "markdown",
   "id": "8e5d44fe",
   "metadata": {},
   "source": [
    "# 7. 여성이 커피바가 있는 숍에 더 반응하는가?"
   ]
  },
  {
   "cell_type": "code",
   "execution_count": 55,
   "id": "228c58f8",
   "metadata": {},
   "outputs": [
    {
     "data": {
      "text/plain": [
       "{'F': 30942, 'M': 29486}"
      ]
     },
     "execution_count": 55,
     "metadata": {},
     "output_type": "execute_result"
    }
   ],
   "source": [
    "coffee_gender = df['gender'].value_counts().to_dict()\n",
    "coffee_gender"
   ]
  },
  {
   "cell_type": "code",
   "execution_count": 56,
   "id": "ad1ae3a4",
   "metadata": {
    "scrolled": true
   },
   "outputs": [
    {
     "name": "stdout",
     "output_type": "stream",
     "text": [
      "Coffee bar rate of Total Female reaction : 0.6268825544567255\n",
      "Coffee bar rate of Total Male reaction : 0.5977073865563318\n"
     ]
    }
   ],
   "source": [
    "f_rates = df.loc[df['gender'] == 'F']['coffee_bar'].sum() / coffee_gender.get('F')\n",
    "m_rates = df.loc[df['gender'] == 'M']['coffee_bar'].sum() / coffee_gender.get('M')\n",
    "\n",
    "print(f'Coffee bar rate of Total Female reaction : {f_rates}')\n",
    "print(f'Coffee bar rate of Total Male reaction : {m_rates}') "
   ]
  },
  {
   "cell_type": "markdown",
   "id": "b3d4539b",
   "metadata": {},
   "source": [
    "### 아주 조금 차이 난다."
   ]
  },
  {
   "cell_type": "markdown",
   "id": "1734ce3c",
   "metadata": {},
   "source": [
    "# 8. 여성이 꽃집이 있는 숍에 더 반응하는가?"
   ]
  },
  {
   "cell_type": "code",
   "execution_count": 57,
   "id": "162e86c8",
   "metadata": {},
   "outputs": [
    {
     "name": "stdout",
     "output_type": "stream",
     "text": [
      "Flower shop rate of Total Female reaction : 0.5670286342188611\n",
      "Flower shop rate of Total Male reaction : 0.5579597096927356\n"
     ]
    }
   ],
   "source": [
    "f_rates = df.loc[df['gender'] == 'F']['florist'].sum() / coffee_gender.get('F')\n",
    "m_rates = df.loc[df['gender'] == 'M']['florist'].sum() / coffee_gender.get('M')\n",
    "\n",
    "print(f'Flower shop rate of Total Female reaction : {f_rates}')\n",
    "print(f'Flower shop rate of Total Male reaction : {m_rates}') "
   ]
  },
  {
   "cell_type": "markdown",
   "id": "75753a2e",
   "metadata": {},
   "source": [
    "### 거의 차이나지 않는다. (애초에 식료품점에 꽃을 사러가는게 이상한 소리로 들린다..)"
   ]
  },
  {
   "cell_type": "code",
   "execution_count": 58,
   "id": "5a317d19",
   "metadata": {},
   "outputs": [
    {
     "data": {
      "text/plain": [
       "9.0"
      ]
     },
     "execution_count": 58,
     "metadata": {},
     "output_type": "execute_result"
    }
   ],
   "source": [
    "df[['store_id', 'florist']].drop_duplicates()['florist'].sum() # 꽃집이 많다 그래도"
   ]
  },
  {
   "cell_type": "markdown",
   "id": "e712fe46",
   "metadata": {},
   "source": [
    "# 9. Shop 단위로 프로모션 결과를 분석하시오."
   ]
  },
  {
   "cell_type": "code",
   "execution_count": 59,
   "id": "97657b24",
   "metadata": {},
   "outputs": [],
   "source": [
    "branch_list = df['store_id'].unique()\n",
    "\n",
    "branches = []\n",
    "for i in range(len(branch_list)):\n",
    "    globals()['branch{}'.format(i)] = df[df['store_id'] == branch_list[i]]\n",
    "    branches.append(globals()['branch{}'.format(i)])"
   ]
  },
  {
   "cell_type": "code",
   "execution_count": 62,
   "id": "7875d7f9",
   "metadata": {
    "scrolled": true
   },
   "outputs": [
    {
     "data": {
      "text/plain": [
       "20"
      ]
     },
     "execution_count": 62,
     "metadata": {},
     "output_type": "execute_result"
    }
   ],
   "source": [
    "branch_dfs = []\n",
    "for i in range(len(branches)):\n",
    "    globals()['branch_df{}'.format(i)] = dfsql(f''' \n",
    "    select promotion_name, count(*) as num_of_cust, round(sum(cost)/count(*), 2) as avg_cost, count(distinct cost) as times\n",
    "    from branch{i} \n",
    "    group by promotion_name order by avg_cost\n",
    "    ''')\n",
    "    \n",
    "    branch_dfs.append(globals()['branch_df{}'.format(i)])\n",
    "len(branch_dfs) # 20"
   ]
  },
  {
   "cell_type": "code",
   "execution_count": 63,
   "id": "983ae93e",
   "metadata": {
    "scrolled": true
   },
   "outputs": [
    {
     "name": "stdout",
     "output_type": "stream",
     "text": [
      "Promotion result of Branch19\n"
     ]
    },
    {
     "data": {
      "text/html": [
       "<div>\n",
       "<style scoped>\n",
       "    .dataframe tbody tr th:only-of-type {\n",
       "        vertical-align: middle;\n",
       "    }\n",
       "\n",
       "    .dataframe tbody tr th {\n",
       "        vertical-align: top;\n",
       "    }\n",
       "\n",
       "    .dataframe thead th {\n",
       "        text-align: right;\n",
       "    }\n",
       "</style>\n",
       "<table border=\"1\" class=\"dataframe\">\n",
       "  <thead>\n",
       "    <tr style=\"text-align: right;\">\n",
       "      <th></th>\n",
       "      <th>promotion_name</th>\n",
       "      <th>num_of_cust</th>\n",
       "      <th>avg_cost</th>\n",
       "      <th>times</th>\n",
       "    </tr>\n",
       "  </thead>\n",
       "  <tbody>\n",
       "    <tr>\n",
       "      <th>0</th>\n",
       "      <td>Shelf Clearing Days</td>\n",
       "      <td>50</td>\n",
       "      <td>51.16</td>\n",
       "      <td>1</td>\n",
       "    </tr>\n",
       "    <tr>\n",
       "      <th>1</th>\n",
       "      <td>I Cant Believe It Sale</td>\n",
       "      <td>72</td>\n",
       "      <td>52.77</td>\n",
       "      <td>1</td>\n",
       "    </tr>\n",
       "    <tr>\n",
       "      <th>2</th>\n",
       "      <td>Save-It Sale</td>\n",
       "      <td>128</td>\n",
       "      <td>68.51</td>\n",
       "      <td>2</td>\n",
       "    </tr>\n",
       "    <tr>\n",
       "      <th>3</th>\n",
       "      <td>Super Duper Savers</td>\n",
       "      <td>62</td>\n",
       "      <td>87.76</td>\n",
       "      <td>1</td>\n",
       "    </tr>\n",
       "    <tr>\n",
       "      <th>4</th>\n",
       "      <td>Double Your Savings</td>\n",
       "      <td>47</td>\n",
       "      <td>114.72</td>\n",
       "      <td>1</td>\n",
       "    </tr>\n",
       "    <tr>\n",
       "      <th>5</th>\n",
       "      <td>Savings Galore</td>\n",
       "      <td>95</td>\n",
       "      <td>130.06</td>\n",
       "      <td>1</td>\n",
       "    </tr>\n",
       "    <tr>\n",
       "      <th>6</th>\n",
       "      <td>Sales Days</td>\n",
       "      <td>58</td>\n",
       "      <td>132.88</td>\n",
       "      <td>1</td>\n",
       "    </tr>\n",
       "    <tr>\n",
       "      <th>7</th>\n",
       "      <td>Green Light Special</td>\n",
       "      <td>68</td>\n",
       "      <td>147.17</td>\n",
       "      <td>1</td>\n",
       "    </tr>\n",
       "  </tbody>\n",
       "</table>\n",
       "</div>"
      ],
      "text/plain": [
       "           promotion_name  num_of_cust  avg_cost  times\n",
       "0     Shelf Clearing Days           50     51.16      1\n",
       "1  I Cant Believe It Sale           72     52.77      1\n",
       "2            Save-It Sale          128     68.51      2\n",
       "3      Super Duper Savers           62     87.76      1\n",
       "4     Double Your Savings           47    114.72      1\n",
       "5          Savings Galore           95    130.06      1\n",
       "6              Sales Days           58    132.88      1\n",
       "7     Green Light Special           68    147.17      1"
      ]
     },
     "metadata": {},
     "output_type": "display_data"
    }
   ],
   "source": [
    "def get_branch_df(i):\n",
    "    branch_num = df['store_id'].unique()[i]\n",
    "    print(f'Promotion result of Branch{branch_num}')\n",
    "    display(branch_dfs[i])\n",
    "\n",
    "get_branch_df(19)"
   ]
  },
  {
   "cell_type": "code",
   "execution_count": null,
   "id": "fb83bf88",
   "metadata": {},
   "outputs": [],
   "source": []
  }
 ],
 "metadata": {
  "kernelspec": {
   "display_name": "Python 3 (ipykernel)",
   "language": "python",
   "name": "python3"
  },
  "language_info": {
   "codemirror_mode": {
    "name": "ipython",
    "version": 3
   },
   "file_extension": ".py",
   "mimetype": "text/x-python",
   "name": "python",
   "nbconvert_exporter": "python",
   "pygments_lexer": "ipython3",
   "version": "3.12.4"
  }
 },
 "nbformat": 4,
 "nbformat_minor": 5
}
