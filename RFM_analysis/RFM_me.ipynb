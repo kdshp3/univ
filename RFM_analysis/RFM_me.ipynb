{
 "cells": [
  {
   "cell_type": "code",
   "execution_count": 1,
   "id": "eb8ead2e",
   "metadata": {},
   "outputs": [],
   "source": [
    "import pandas as pd\n",
    "import matplotlib.pyplot as plt\n",
    "import datetime as dt\n",
    "from scipy import stats\n",
    "import duckdb"
   ]
  },
  {
   "cell_type": "code",
   "execution_count": 2,
   "id": "cba33345",
   "metadata": {},
   "outputs": [
    {
     "data": {
      "text/html": [
       "<div>\n",
       "<style scoped>\n",
       "    .dataframe tbody tr th:only-of-type {\n",
       "        vertical-align: middle;\n",
       "    }\n",
       "\n",
       "    .dataframe tbody tr th {\n",
       "        vertical-align: top;\n",
       "    }\n",
       "\n",
       "    .dataframe thead th {\n",
       "        text-align: right;\n",
       "    }\n",
       "</style>\n",
       "<table border=\"1\" class=\"dataframe\">\n",
       "  <thead>\n",
       "    <tr style=\"text-align: right;\">\n",
       "      <th></th>\n",
       "      <th>Unnamed: 0</th>\n",
       "      <th>InvoiceID</th>\n",
       "      <th>Date</th>\n",
       "      <th>ProductID</th>\n",
       "      <th>TotalSales</th>\n",
       "      <th>Discount</th>\n",
       "      <th>CustomerID</th>\n",
       "      <th>Quantity</th>\n",
       "    </tr>\n",
       "  </thead>\n",
       "  <tbody>\n",
       "    <tr>\n",
       "      <th>0</th>\n",
       "      <td>0</td>\n",
       "      <td>328</td>\n",
       "      <td>2019-12-27</td>\n",
       "      <td>1684</td>\n",
       "      <td>796.610169</td>\n",
       "      <td>143.389831</td>\n",
       "      <td>185</td>\n",
       "      <td>4</td>\n",
       "    </tr>\n",
       "    <tr>\n",
       "      <th>1</th>\n",
       "      <td>1</td>\n",
       "      <td>329</td>\n",
       "      <td>2019-12-27</td>\n",
       "      <td>524</td>\n",
       "      <td>355.932203</td>\n",
       "      <td>64.067797</td>\n",
       "      <td>185</td>\n",
       "      <td>2</td>\n",
       "    </tr>\n",
       "    <tr>\n",
       "      <th>2</th>\n",
       "      <td>2</td>\n",
       "      <td>330</td>\n",
       "      <td>2019-12-27</td>\n",
       "      <td>192</td>\n",
       "      <td>901.694915</td>\n",
       "      <td>162.305085</td>\n",
       "      <td>230</td>\n",
       "      <td>4</td>\n",
       "    </tr>\n",
       "    <tr>\n",
       "      <th>3</th>\n",
       "      <td>3</td>\n",
       "      <td>330</td>\n",
       "      <td>2019-12-27</td>\n",
       "      <td>218</td>\n",
       "      <td>182.754237</td>\n",
       "      <td>32.895763</td>\n",
       "      <td>230</td>\n",
       "      <td>1</td>\n",
       "    </tr>\n",
       "    <tr>\n",
       "      <th>4</th>\n",
       "      <td>4</td>\n",
       "      <td>330</td>\n",
       "      <td>2019-12-27</td>\n",
       "      <td>247</td>\n",
       "      <td>780.101695</td>\n",
       "      <td>140.418305</td>\n",
       "      <td>230</td>\n",
       "      <td>4</td>\n",
       "    </tr>\n",
       "  </tbody>\n",
       "</table>\n",
       "</div>"
      ],
      "text/plain": [
       "   Unnamed: 0  InvoiceID        Date  ProductID  TotalSales    Discount  \\\n",
       "0           0        328  2019-12-27       1684  796.610169  143.389831   \n",
       "1           1        329  2019-12-27        524  355.932203   64.067797   \n",
       "2           2        330  2019-12-27        192  901.694915  162.305085   \n",
       "3           3        330  2019-12-27        218  182.754237   32.895763   \n",
       "4           4        330  2019-12-27        247  780.101695  140.418305   \n",
       "\n",
       "   CustomerID  Quantity  \n",
       "0         185         4  \n",
       "1         185         2  \n",
       "2         230         4  \n",
       "3         230         1  \n",
       "4         230         4  "
      ]
     },
     "execution_count": 2,
     "metadata": {},
     "output_type": "execute_result"
    }
   ],
   "source": [
    "df = pd.read_csv('file_out2.csv')\n",
    "df.head()"
   ]
  },
  {
   "cell_type": "code",
   "execution_count": 3,
   "id": "3df9ca66",
   "metadata": {},
   "outputs": [
    {
     "data": {
      "text/html": [
       "<div>\n",
       "<style scoped>\n",
       "    .dataframe tbody tr th:only-of-type {\n",
       "        vertical-align: middle;\n",
       "    }\n",
       "\n",
       "    .dataframe tbody tr th {\n",
       "        vertical-align: top;\n",
       "    }\n",
       "\n",
       "    .dataframe thead th {\n",
       "        text-align: right;\n",
       "    }\n",
       "</style>\n",
       "<table border=\"1\" class=\"dataframe\">\n",
       "  <thead>\n",
       "    <tr style=\"text-align: right;\">\n",
       "      <th></th>\n",
       "      <th>InvoiceID</th>\n",
       "      <th>Date</th>\n",
       "      <th>ProductID</th>\n",
       "      <th>TotalSales</th>\n",
       "      <th>Discount</th>\n",
       "      <th>CustomerID</th>\n",
       "      <th>Quantity</th>\n",
       "    </tr>\n",
       "  </thead>\n",
       "  <tbody>\n",
       "    <tr>\n",
       "      <th>0</th>\n",
       "      <td>328</td>\n",
       "      <td>2019-12-27</td>\n",
       "      <td>1684</td>\n",
       "      <td>796.610169</td>\n",
       "      <td>143.389831</td>\n",
       "      <td>185</td>\n",
       "      <td>4</td>\n",
       "    </tr>\n",
       "    <tr>\n",
       "      <th>1</th>\n",
       "      <td>329</td>\n",
       "      <td>2019-12-27</td>\n",
       "      <td>524</td>\n",
       "      <td>355.932203</td>\n",
       "      <td>64.067797</td>\n",
       "      <td>185</td>\n",
       "      <td>2</td>\n",
       "    </tr>\n",
       "    <tr>\n",
       "      <th>2</th>\n",
       "      <td>330</td>\n",
       "      <td>2019-12-27</td>\n",
       "      <td>192</td>\n",
       "      <td>901.694915</td>\n",
       "      <td>162.305085</td>\n",
       "      <td>230</td>\n",
       "      <td>4</td>\n",
       "    </tr>\n",
       "    <tr>\n",
       "      <th>3</th>\n",
       "      <td>330</td>\n",
       "      <td>2019-12-27</td>\n",
       "      <td>218</td>\n",
       "      <td>182.754237</td>\n",
       "      <td>32.895763</td>\n",
       "      <td>230</td>\n",
       "      <td>1</td>\n",
       "    </tr>\n",
       "    <tr>\n",
       "      <th>4</th>\n",
       "      <td>330</td>\n",
       "      <td>2019-12-27</td>\n",
       "      <td>247</td>\n",
       "      <td>780.101695</td>\n",
       "      <td>140.418305</td>\n",
       "      <td>230</td>\n",
       "      <td>4</td>\n",
       "    </tr>\n",
       "  </tbody>\n",
       "</table>\n",
       "</div>"
      ],
      "text/plain": [
       "   InvoiceID        Date  ProductID  TotalSales    Discount  CustomerID  \\\n",
       "0        328  2019-12-27       1684  796.610169  143.389831         185   \n",
       "1        329  2019-12-27        524  355.932203   64.067797         185   \n",
       "2        330  2019-12-27        192  901.694915  162.305085         230   \n",
       "3        330  2019-12-27        218  182.754237   32.895763         230   \n",
       "4        330  2019-12-27        247  780.101695  140.418305         230   \n",
       "\n",
       "   Quantity  \n",
       "0         4  \n",
       "1         2  \n",
       "2         4  \n",
       "3         1  \n",
       "4         4  "
      ]
     },
     "execution_count": 3,
     "metadata": {},
     "output_type": "execute_result"
    }
   ],
   "source": [
    "del df['Unnamed: 0']\n",
    "df.head()"
   ]
  },
  {
   "cell_type": "code",
   "execution_count": 4,
   "id": "fdaad42f",
   "metadata": {},
   "outputs": [
    {
     "data": {
      "text/plain": [
       "(29103, 7)"
      ]
     },
     "execution_count": 4,
     "metadata": {},
     "output_type": "execute_result"
    }
   ],
   "source": [
    "df.shape"
   ]
  },
  {
   "cell_type": "code",
   "execution_count": 5,
   "id": "2489fedf",
   "metadata": {},
   "outputs": [
    {
     "name": "stdout",
     "output_type": "stream",
     "text": [
      "<class 'pandas.core.frame.DataFrame'>\n",
      "RangeIndex: 29103 entries, 0 to 29102\n",
      "Data columns (total 7 columns):\n",
      " #   Column      Non-Null Count  Dtype  \n",
      "---  ------      --------------  -----  \n",
      " 0   InvoiceID   29103 non-null  int64  \n",
      " 1   Date        29103 non-null  object \n",
      " 2   ProductID   29103 non-null  int64  \n",
      " 3   TotalSales  29103 non-null  float64\n",
      " 4   Discount    29103 non-null  float64\n",
      " 5   CustomerID  29103 non-null  int64  \n",
      " 6   Quantity    29103 non-null  int64  \n",
      "dtypes: float64(2), int64(4), object(1)\n",
      "memory usage: 1.6+ MB\n"
     ]
    }
   ],
   "source": [
    "df.info()"
   ]
  },
  {
   "cell_type": "code",
   "execution_count": 6,
   "id": "584bff21",
   "metadata": {},
   "outputs": [
    {
     "data": {
      "text/plain": [
       "InvoiceID     14079\n",
       "Date           1268\n",
       "ProductID      1940\n",
       "TotalSales     7013\n",
       "Discount       6797\n",
       "CustomerID      507\n",
       "Quantity         59\n",
       "dtype: int64"
      ]
     },
     "execution_count": 6,
     "metadata": {},
     "output_type": "execute_result"
    }
   ],
   "source": [
    "df.nunique()"
   ]
  },
  {
   "cell_type": "code",
   "execution_count": 7,
   "id": "8f157f9a",
   "metadata": {},
   "outputs": [
    {
     "data": {
      "text/html": [
       "<div>\n",
       "<style scoped>\n",
       "    .dataframe tbody tr th:only-of-type {\n",
       "        vertical-align: middle;\n",
       "    }\n",
       "\n",
       "    .dataframe tbody tr th {\n",
       "        vertical-align: top;\n",
       "    }\n",
       "\n",
       "    .dataframe thead th {\n",
       "        text-align: right;\n",
       "    }\n",
       "</style>\n",
       "<table border=\"1\" class=\"dataframe\">\n",
       "  <thead>\n",
       "    <tr style=\"text-align: right;\">\n",
       "      <th></th>\n",
       "      <th>InvoiceID</th>\n",
       "      <th>Date</th>\n",
       "      <th>ProductID</th>\n",
       "      <th>TotalSales</th>\n",
       "      <th>Discount</th>\n",
       "      <th>CustomerID</th>\n",
       "      <th>Quantity</th>\n",
       "    </tr>\n",
       "  </thead>\n",
       "  <tbody>\n",
       "    <tr>\n",
       "      <th>110</th>\n",
       "      <td>385</td>\n",
       "      <td>2019-12-31</td>\n",
       "      <td>192</td>\n",
       "      <td>950.000000</td>\n",
       "      <td>171.000000</td>\n",
       "      <td>230</td>\n",
       "      <td>4</td>\n",
       "    </tr>\n",
       "    <tr>\n",
       "      <th>111</th>\n",
       "      <td>385</td>\n",
       "      <td>2019-12-31</td>\n",
       "      <td>192</td>\n",
       "      <td>950.000000</td>\n",
       "      <td>171.000000</td>\n",
       "      <td>230</td>\n",
       "      <td>4</td>\n",
       "    </tr>\n",
       "    <tr>\n",
       "      <th>302</th>\n",
       "      <td>524</td>\n",
       "      <td>2019-07-09</td>\n",
       "      <td>527</td>\n",
       "      <td>715.864407</td>\n",
       "      <td>128.855593</td>\n",
       "      <td>230</td>\n",
       "      <td>4</td>\n",
       "    </tr>\n",
       "    <tr>\n",
       "      <th>303</th>\n",
       "      <td>524</td>\n",
       "      <td>2019-07-09</td>\n",
       "      <td>527</td>\n",
       "      <td>715.864407</td>\n",
       "      <td>128.855593</td>\n",
       "      <td>230</td>\n",
       "      <td>4</td>\n",
       "    </tr>\n",
       "    <tr>\n",
       "      <th>483</th>\n",
       "      <td>650</td>\n",
       "      <td>2019-07-16</td>\n",
       "      <td>559</td>\n",
       "      <td>206.101695</td>\n",
       "      <td>37.098305</td>\n",
       "      <td>230</td>\n",
       "      <td>1</td>\n",
       "    </tr>\n",
       "    <tr>\n",
       "      <th>...</th>\n",
       "      <td>...</td>\n",
       "      <td>...</td>\n",
       "      <td>...</td>\n",
       "      <td>...</td>\n",
       "      <td>...</td>\n",
       "      <td>...</td>\n",
       "      <td>...</td>\n",
       "    </tr>\n",
       "    <tr>\n",
       "      <th>16768</th>\n",
       "      <td>6570</td>\n",
       "      <td>2020-12-22</td>\n",
       "      <td>1919</td>\n",
       "      <td>474.576271</td>\n",
       "      <td>85.423729</td>\n",
       "      <td>230</td>\n",
       "      <td>2</td>\n",
       "    </tr>\n",
       "    <tr>\n",
       "      <th>16771</th>\n",
       "      <td>6572</td>\n",
       "      <td>2020-12-23</td>\n",
       "      <td>189</td>\n",
       "      <td>546.440678</td>\n",
       "      <td>98.359322</td>\n",
       "      <td>230</td>\n",
       "      <td>2</td>\n",
       "    </tr>\n",
       "    <tr>\n",
       "      <th>16772</th>\n",
       "      <td>6572</td>\n",
       "      <td>2020-12-23</td>\n",
       "      <td>189</td>\n",
       "      <td>546.440678</td>\n",
       "      <td>98.359322</td>\n",
       "      <td>230</td>\n",
       "      <td>2</td>\n",
       "    </tr>\n",
       "    <tr>\n",
       "      <th>16775</th>\n",
       "      <td>6572</td>\n",
       "      <td>2020-12-23</td>\n",
       "      <td>251</td>\n",
       "      <td>542.372881</td>\n",
       "      <td>97.627119</td>\n",
       "      <td>230</td>\n",
       "      <td>2</td>\n",
       "    </tr>\n",
       "    <tr>\n",
       "      <th>16776</th>\n",
       "      <td>6572</td>\n",
       "      <td>2020-12-23</td>\n",
       "      <td>251</td>\n",
       "      <td>542.372881</td>\n",
       "      <td>97.627119</td>\n",
       "      <td>230</td>\n",
       "      <td>2</td>\n",
       "    </tr>\n",
       "  </tbody>\n",
       "</table>\n",
       "<p>515 rows × 7 columns</p>\n",
       "</div>"
      ],
      "text/plain": [
       "       InvoiceID        Date  ProductID  TotalSales    Discount  CustomerID  \\\n",
       "110          385  2019-12-31        192  950.000000  171.000000         230   \n",
       "111          385  2019-12-31        192  950.000000  171.000000         230   \n",
       "302          524  2019-07-09        527  715.864407  128.855593         230   \n",
       "303          524  2019-07-09        527  715.864407  128.855593         230   \n",
       "483          650  2019-07-16        559  206.101695   37.098305         230   \n",
       "...          ...         ...        ...         ...         ...         ...   \n",
       "16768       6570  2020-12-22       1919  474.576271   85.423729         230   \n",
       "16771       6572  2020-12-23        189  546.440678   98.359322         230   \n",
       "16772       6572  2020-12-23        189  546.440678   98.359322         230   \n",
       "16775       6572  2020-12-23        251  542.372881   97.627119         230   \n",
       "16776       6572  2020-12-23        251  542.372881   97.627119         230   \n",
       "\n",
       "       Quantity  \n",
       "110           4  \n",
       "111           4  \n",
       "302           4  \n",
       "303           4  \n",
       "483           1  \n",
       "...         ...  \n",
       "16768         2  \n",
       "16771         2  \n",
       "16772         2  \n",
       "16775         2  \n",
       "16776         2  \n",
       "\n",
       "[515 rows x 7 columns]"
      ]
     },
     "execution_count": 7,
     "metadata": {},
     "output_type": "execute_result"
    }
   ],
   "source": [
    "df[df.duplicated(keep=False) == True]"
   ]
  },
  {
   "cell_type": "code",
   "execution_count": 8,
   "id": "dd3c32d7",
   "metadata": {},
   "outputs": [],
   "source": [
    "df.drop_duplicates(keep='first', inplace= True)"
   ]
  },
  {
   "cell_type": "code",
   "execution_count": 9,
   "id": "5f71e9c3",
   "metadata": {},
   "outputs": [
    {
     "data": {
      "text/html": [
       "<div>\n",
       "<style scoped>\n",
       "    .dataframe tbody tr th:only-of-type {\n",
       "        vertical-align: middle;\n",
       "    }\n",
       "\n",
       "    .dataframe tbody tr th {\n",
       "        vertical-align: top;\n",
       "    }\n",
       "\n",
       "    .dataframe thead th {\n",
       "        text-align: right;\n",
       "    }\n",
       "</style>\n",
       "<table border=\"1\" class=\"dataframe\">\n",
       "  <thead>\n",
       "    <tr style=\"text-align: right;\">\n",
       "      <th></th>\n",
       "      <th>InvoiceID</th>\n",
       "      <th>Date</th>\n",
       "      <th>ProductID</th>\n",
       "      <th>TotalSales</th>\n",
       "      <th>Discount</th>\n",
       "      <th>CustomerID</th>\n",
       "      <th>Quantity</th>\n",
       "    </tr>\n",
       "  </thead>\n",
       "  <tbody>\n",
       "    <tr>\n",
       "      <th>2328</th>\n",
       "      <td>1930</td>\n",
       "      <td>2019-10-05</td>\n",
       "      <td>885</td>\n",
       "      <td>0.0</td>\n",
       "      <td>0.0</td>\n",
       "      <td>17</td>\n",
       "      <td>0</td>\n",
       "    </tr>\n",
       "    <tr>\n",
       "      <th>6533</th>\n",
       "      <td>4718</td>\n",
       "      <td>2019-04-13</td>\n",
       "      <td>751</td>\n",
       "      <td>0.0</td>\n",
       "      <td>0.0</td>\n",
       "      <td>404</td>\n",
       "      <td>0</td>\n",
       "    </tr>\n",
       "    <tr>\n",
       "      <th>8663</th>\n",
       "      <td>242</td>\n",
       "      <td>2019-01-15</td>\n",
       "      <td>1790</td>\n",
       "      <td>0.0</td>\n",
       "      <td>0.0</td>\n",
       "      <td>122</td>\n",
       "      <td>4</td>\n",
       "    </tr>\n",
       "    <tr>\n",
       "      <th>8665</th>\n",
       "      <td>244</td>\n",
       "      <td>2019-02-15</td>\n",
       "      <td>1470</td>\n",
       "      <td>0.0</td>\n",
       "      <td>0.0</td>\n",
       "      <td>129</td>\n",
       "      <td>4</td>\n",
       "    </tr>\n",
       "    <tr>\n",
       "      <th>8667</th>\n",
       "      <td>246</td>\n",
       "      <td>2019-02-28</td>\n",
       "      <td>1499</td>\n",
       "      <td>0.0</td>\n",
       "      <td>0.0</td>\n",
       "      <td>129</td>\n",
       "      <td>4</td>\n",
       "    </tr>\n",
       "    <tr>\n",
       "      <th>...</th>\n",
       "      <td>...</td>\n",
       "      <td>...</td>\n",
       "      <td>...</td>\n",
       "      <td>...</td>\n",
       "      <td>...</td>\n",
       "      <td>...</td>\n",
       "      <td>...</td>\n",
       "    </tr>\n",
       "    <tr>\n",
       "      <th>28893</th>\n",
       "      <td>196</td>\n",
       "      <td>2023-02-15</td>\n",
       "      <td>900</td>\n",
       "      <td>0.0</td>\n",
       "      <td>0.0</td>\n",
       "      <td>230</td>\n",
       "      <td>0</td>\n",
       "    </tr>\n",
       "    <tr>\n",
       "      <th>28894</th>\n",
       "      <td>197</td>\n",
       "      <td>2023-02-16</td>\n",
       "      <td>795</td>\n",
       "      <td>0.0</td>\n",
       "      <td>0.0</td>\n",
       "      <td>230</td>\n",
       "      <td>0</td>\n",
       "    </tr>\n",
       "    <tr>\n",
       "      <th>28895</th>\n",
       "      <td>198</td>\n",
       "      <td>2023-02-18</td>\n",
       "      <td>628</td>\n",
       "      <td>0.0</td>\n",
       "      <td>0.0</td>\n",
       "      <td>230</td>\n",
       "      <td>0</td>\n",
       "    </tr>\n",
       "    <tr>\n",
       "      <th>28896</th>\n",
       "      <td>198</td>\n",
       "      <td>2023-02-18</td>\n",
       "      <td>900</td>\n",
       "      <td>0.0</td>\n",
       "      <td>0.0</td>\n",
       "      <td>230</td>\n",
       "      <td>0</td>\n",
       "    </tr>\n",
       "    <tr>\n",
       "      <th>28897</th>\n",
       "      <td>198</td>\n",
       "      <td>2023-02-18</td>\n",
       "      <td>1285</td>\n",
       "      <td>0.0</td>\n",
       "      <td>0.0</td>\n",
       "      <td>230</td>\n",
       "      <td>0</td>\n",
       "    </tr>\n",
       "  </tbody>\n",
       "</table>\n",
       "<p>176 rows × 7 columns</p>\n",
       "</div>"
      ],
      "text/plain": [
       "       InvoiceID        Date  ProductID  TotalSales  Discount  CustomerID  \\\n",
       "2328        1930  2019-10-05        885         0.0       0.0          17   \n",
       "6533        4718  2019-04-13        751         0.0       0.0         404   \n",
       "8663         242  2019-01-15       1790         0.0       0.0         122   \n",
       "8665         244  2019-02-15       1470         0.0       0.0         129   \n",
       "8667         246  2019-02-28       1499         0.0       0.0         129   \n",
       "...          ...         ...        ...         ...       ...         ...   \n",
       "28893        196  2023-02-15        900         0.0       0.0         230   \n",
       "28894        197  2023-02-16        795         0.0       0.0         230   \n",
       "28895        198  2023-02-18        628         0.0       0.0         230   \n",
       "28896        198  2023-02-18        900         0.0       0.0         230   \n",
       "28897        198  2023-02-18       1285         0.0       0.0         230   \n",
       "\n",
       "       Quantity  \n",
       "2328          0  \n",
       "6533          0  \n",
       "8663          4  \n",
       "8665          4  \n",
       "8667          4  \n",
       "...         ...  \n",
       "28893         0  \n",
       "28894         0  \n",
       "28895         0  \n",
       "28896         0  \n",
       "28897         0  \n",
       "\n",
       "[176 rows x 7 columns]"
      ]
     },
     "execution_count": 9,
     "metadata": {},
     "output_type": "execute_result"
    }
   ],
   "source": [
    "df[df['TotalSales'] == 0]"
   ]
  },
  {
   "cell_type": "code",
   "execution_count": 10,
   "id": "fc6b1d04",
   "metadata": {},
   "outputs": [],
   "source": [
    "df = df[(df['TotalSales'] != 0) & (df['Quantity'] != 0)]"
   ]
  },
  {
   "cell_type": "code",
   "execution_count": 11,
   "id": "7ff84439",
   "metadata": {},
   "outputs": [
    {
     "data": {
      "text/html": [
       "<div>\n",
       "<style scoped>\n",
       "    .dataframe tbody tr th:only-of-type {\n",
       "        vertical-align: middle;\n",
       "    }\n",
       "\n",
       "    .dataframe tbody tr th {\n",
       "        vertical-align: top;\n",
       "    }\n",
       "\n",
       "    .dataframe thead th {\n",
       "        text-align: right;\n",
       "    }\n",
       "</style>\n",
       "<table border=\"1\" class=\"dataframe\">\n",
       "  <thead>\n",
       "    <tr style=\"text-align: right;\">\n",
       "      <th></th>\n",
       "      <th>InvoiceID</th>\n",
       "      <th>Date</th>\n",
       "      <th>TotalSales</th>\n",
       "      <th>CustomerID</th>\n",
       "    </tr>\n",
       "  </thead>\n",
       "  <tbody>\n",
       "    <tr>\n",
       "      <th>0</th>\n",
       "      <td>328</td>\n",
       "      <td>2019-12-27</td>\n",
       "      <td>796.610169</td>\n",
       "      <td>185</td>\n",
       "    </tr>\n",
       "    <tr>\n",
       "      <th>1</th>\n",
       "      <td>329</td>\n",
       "      <td>2019-12-27</td>\n",
       "      <td>355.932203</td>\n",
       "      <td>185</td>\n",
       "    </tr>\n",
       "    <tr>\n",
       "      <th>2</th>\n",
       "      <td>330</td>\n",
       "      <td>2019-12-27</td>\n",
       "      <td>901.694915</td>\n",
       "      <td>230</td>\n",
       "    </tr>\n",
       "    <tr>\n",
       "      <th>3</th>\n",
       "      <td>330</td>\n",
       "      <td>2019-12-27</td>\n",
       "      <td>182.754237</td>\n",
       "      <td>230</td>\n",
       "    </tr>\n",
       "    <tr>\n",
       "      <th>4</th>\n",
       "      <td>330</td>\n",
       "      <td>2019-12-27</td>\n",
       "      <td>780.101695</td>\n",
       "      <td>230</td>\n",
       "    </tr>\n",
       "  </tbody>\n",
       "</table>\n",
       "</div>"
      ],
      "text/plain": [
       "   InvoiceID        Date  TotalSales  CustomerID\n",
       "0        328  2019-12-27  796.610169         185\n",
       "1        329  2019-12-27  355.932203         185\n",
       "2        330  2019-12-27  901.694915         230\n",
       "3        330  2019-12-27  182.754237         230\n",
       "4        330  2019-12-27  780.101695         230"
      ]
     },
     "execution_count": 11,
     "metadata": {},
     "output_type": "execute_result"
    }
   ],
   "source": [
    "del df['ProductID']\n",
    "del df['Quantity']\n",
    "del df['Discount']\n",
    "df.head()"
   ]
  },
  {
   "cell_type": "code",
   "execution_count": 12,
   "id": "534289f6",
   "metadata": {
    "scrolled": true
   },
   "outputs": [
    {
     "data": {
      "text/plain": [
       "(28634, 4)"
      ]
     },
     "execution_count": 12,
     "metadata": {},
     "output_type": "execute_result"
    }
   ],
   "source": [
    "df.shape"
   ]
  },
  {
   "cell_type": "code",
   "execution_count": 13,
   "id": "4db8db34",
   "metadata": {},
   "outputs": [],
   "source": [
    "df['Date'] = pd.to_datetime(df['Date'])"
   ]
  },
  {
   "cell_type": "code",
   "execution_count": 14,
   "id": "d3120757",
   "metadata": {},
   "outputs": [
    {
     "data": {
      "text/plain": [
       "(Timestamp('2019-01-02 00:00:00'), Timestamp('2023-03-25 00:00:00'))"
      ]
     },
     "execution_count": 14,
     "metadata": {},
     "output_type": "execute_result"
    }
   ],
   "source": [
    "df['Date'].min(), df['Date'].max() # 50개월정도"
   ]
  },
  {
   "cell_type": "code",
   "execution_count": 15,
   "id": "0b70ccaa",
   "metadata": {},
   "outputs": [],
   "source": [
    "def dfsql(query):\n",
    "    return duckdb.query(query).df()"
   ]
  },
  {
   "cell_type": "code",
   "execution_count": 16,
   "id": "a1301392",
   "metadata": {},
   "outputs": [],
   "source": [
    "cust_df = dfsql('''\n",
    "                select df.CustomerID, DATE '2023-03-26' - min(df.Date) as SignupDays, DATE '2023-03-26' - max(df.Date) as RecentOrder,\n",
    "                count(DISTINCT df.InvoiceID) as Frequency, avg(tmp.summ) as Monetary \n",
    "                from df JOIN (select CustomerID, InvoiceID, sum(TotalSales) as summ from df group by CustomerID, InvoiceID) as tmp\n",
    "                ON tmp.CustomerID = df.CustomerID group by df.CustomerID\n",
    "                ''')"
   ]
  },
  {
   "cell_type": "code",
   "execution_count": 17,
   "id": "a12935d6",
   "metadata": {},
   "outputs": [
    {
     "data": {
      "text/html": [
       "<div>\n",
       "<style scoped>\n",
       "    .dataframe tbody tr th:only-of-type {\n",
       "        vertical-align: middle;\n",
       "    }\n",
       "\n",
       "    .dataframe tbody tr th {\n",
       "        vertical-align: top;\n",
       "    }\n",
       "\n",
       "    .dataframe thead th {\n",
       "        text-align: right;\n",
       "    }\n",
       "</style>\n",
       "<table border=\"1\" class=\"dataframe\">\n",
       "  <thead>\n",
       "    <tr style=\"text-align: right;\">\n",
       "      <th></th>\n",
       "      <th>CustomerID</th>\n",
       "      <th>SignupDays</th>\n",
       "      <th>RecentOrder</th>\n",
       "      <th>Frequency</th>\n",
       "      <th>Monetary</th>\n",
       "    </tr>\n",
       "  </thead>\n",
       "  <tbody>\n",
       "    <tr>\n",
       "      <th>0</th>\n",
       "      <td>230</td>\n",
       "      <td>1544 days</td>\n",
       "      <td>1 days</td>\n",
       "      <td>784</td>\n",
       "      <td>5444.248275</td>\n",
       "    </tr>\n",
       "    <tr>\n",
       "      <th>1</th>\n",
       "      <td>267</td>\n",
       "      <td>1539 days</td>\n",
       "      <td>1181 days</td>\n",
       "      <td>36</td>\n",
       "      <td>971.872175</td>\n",
       "    </tr>\n",
       "    <tr>\n",
       "      <th>2</th>\n",
       "      <td>129</td>\n",
       "      <td>1542 days</td>\n",
       "      <td>514 days</td>\n",
       "      <td>50</td>\n",
       "      <td>1659.880587</td>\n",
       "    </tr>\n",
       "    <tr>\n",
       "      <th>3</th>\n",
       "      <td>344</td>\n",
       "      <td>1461 days</td>\n",
       "      <td>32 days</td>\n",
       "      <td>93</td>\n",
       "      <td>2383.916530</td>\n",
       "    </tr>\n",
       "    <tr>\n",
       "      <th>4</th>\n",
       "      <td>117</td>\n",
       "      <td>1539 days</td>\n",
       "      <td>73 days</td>\n",
       "      <td>146</td>\n",
       "      <td>1759.190852</td>\n",
       "    </tr>\n",
       "    <tr>\n",
       "      <th>...</th>\n",
       "      <td>...</td>\n",
       "      <td>...</td>\n",
       "      <td>...</td>\n",
       "      <td>...</td>\n",
       "      <td>...</td>\n",
       "    </tr>\n",
       "    <tr>\n",
       "      <th>502</th>\n",
       "      <td>273</td>\n",
       "      <td>220 days</td>\n",
       "      <td>16 days</td>\n",
       "      <td>2</td>\n",
       "      <td>5307.118644</td>\n",
       "    </tr>\n",
       "    <tr>\n",
       "      <th>503</th>\n",
       "      <td>65</td>\n",
       "      <td>31 days</td>\n",
       "      <td>31 days</td>\n",
       "      <td>1</td>\n",
       "      <td>7118.644068</td>\n",
       "    </tr>\n",
       "    <tr>\n",
       "      <th>504</th>\n",
       "      <td>498</td>\n",
       "      <td>60 days</td>\n",
       "      <td>60 days</td>\n",
       "      <td>1</td>\n",
       "      <td>3220.338983</td>\n",
       "    </tr>\n",
       "    <tr>\n",
       "      <th>505</th>\n",
       "      <td>264</td>\n",
       "      <td>33 days</td>\n",
       "      <td>33 days</td>\n",
       "      <td>1</td>\n",
       "      <td>3683.050847</td>\n",
       "    </tr>\n",
       "    <tr>\n",
       "      <th>506</th>\n",
       "      <td>64</td>\n",
       "      <td>37 days</td>\n",
       "      <td>37 days</td>\n",
       "      <td>1</td>\n",
       "      <td>1598.949153</td>\n",
       "    </tr>\n",
       "  </tbody>\n",
       "</table>\n",
       "<p>507 rows × 5 columns</p>\n",
       "</div>"
      ],
      "text/plain": [
       "     CustomerID SignupDays RecentOrder  Frequency     Monetary\n",
       "0           230  1544 days      1 days        784  5444.248275\n",
       "1           267  1539 days   1181 days         36   971.872175\n",
       "2           129  1542 days    514 days         50  1659.880587\n",
       "3           344  1461 days     32 days         93  2383.916530\n",
       "4           117  1539 days     73 days        146  1759.190852\n",
       "..          ...        ...         ...        ...          ...\n",
       "502         273   220 days     16 days          2  5307.118644\n",
       "503          65    31 days     31 days          1  7118.644068\n",
       "504         498    60 days     60 days          1  3220.338983\n",
       "505         264    33 days     33 days          1  3683.050847\n",
       "506          64    37 days     37 days          1  1598.949153\n",
       "\n",
       "[507 rows x 5 columns]"
      ]
     },
     "execution_count": 17,
     "metadata": {},
     "output_type": "execute_result"
    }
   ],
   "source": [
    "cust_df"
   ]
  },
  {
   "cell_type": "code",
   "execution_count": 18,
   "id": "86d6afd9",
   "metadata": {},
   "outputs": [
    {
     "data": {
      "text/html": [
       "<div>\n",
       "<style scoped>\n",
       "    .dataframe tbody tr th:only-of-type {\n",
       "        vertical-align: middle;\n",
       "    }\n",
       "\n",
       "    .dataframe tbody tr th {\n",
       "        vertical-align: top;\n",
       "    }\n",
       "\n",
       "    .dataframe thead th {\n",
       "        text-align: right;\n",
       "    }\n",
       "</style>\n",
       "<table border=\"1\" class=\"dataframe\">\n",
       "  <thead>\n",
       "    <tr style=\"text-align: right;\">\n",
       "      <th></th>\n",
       "      <th>CustomerID</th>\n",
       "      <th>SignupDays</th>\n",
       "      <th>RecentOrder</th>\n",
       "      <th>Frequency</th>\n",
       "      <th>Monetary</th>\n",
       "    </tr>\n",
       "  </thead>\n",
       "  <tbody>\n",
       "    <tr>\n",
       "      <th>0</th>\n",
       "      <td>230</td>\n",
       "      <td>1544</td>\n",
       "      <td>1</td>\n",
       "      <td>784</td>\n",
       "      <td>5444.248275</td>\n",
       "    </tr>\n",
       "    <tr>\n",
       "      <th>1</th>\n",
       "      <td>267</td>\n",
       "      <td>1539</td>\n",
       "      <td>1181</td>\n",
       "      <td>36</td>\n",
       "      <td>971.872175</td>\n",
       "    </tr>\n",
       "    <tr>\n",
       "      <th>2</th>\n",
       "      <td>129</td>\n",
       "      <td>1542</td>\n",
       "      <td>514</td>\n",
       "      <td>50</td>\n",
       "      <td>1659.880587</td>\n",
       "    </tr>\n",
       "    <tr>\n",
       "      <th>3</th>\n",
       "      <td>344</td>\n",
       "      <td>1461</td>\n",
       "      <td>32</td>\n",
       "      <td>93</td>\n",
       "      <td>2383.916530</td>\n",
       "    </tr>\n",
       "    <tr>\n",
       "      <th>4</th>\n",
       "      <td>117</td>\n",
       "      <td>1539</td>\n",
       "      <td>73</td>\n",
       "      <td>146</td>\n",
       "      <td>1759.190852</td>\n",
       "    </tr>\n",
       "  </tbody>\n",
       "</table>\n",
       "</div>"
      ],
      "text/plain": [
       "   CustomerID  SignupDays  RecentOrder  Frequency     Monetary\n",
       "0         230        1544            1        784  5444.248275\n",
       "1         267        1539         1181         36   971.872175\n",
       "2         129        1542          514         50  1659.880587\n",
       "3         344        1461           32         93  2383.916530\n",
       "4         117        1539           73        146  1759.190852"
      ]
     },
     "execution_count": 18,
     "metadata": {},
     "output_type": "execute_result"
    }
   ],
   "source": [
    "cust_df['SignupDays'] = cust_df['SignupDays'].dt.days\n",
    "cust_df['RecentOrder'] = cust_df['RecentOrder'].dt.days\n",
    "cust_df.head()"
   ]
  },
  {
   "cell_type": "code",
   "execution_count": 19,
   "id": "be9a9687",
   "metadata": {
    "scrolled": true
   },
   "outputs": [
    {
     "data": {
      "text/plain": [
       "array([[<Axes: title={'center': 'SignupDays'}>,\n",
       "        <Axes: title={'center': 'RecentOrder'}>],\n",
       "       [<Axes: title={'center': 'Frequency'}>,\n",
       "        <Axes: title={'center': 'Monetary'}>]], dtype=object)"
      ]
     },
     "execution_count": 19,
     "metadata": {},
     "output_type": "execute_result"
    },
    {
     "data": {
      "image/png": "[encoded data removed]",
      "text/plain": [
       "<Figure size 640x480 with 4 Axes>"
      ]
     },
     "metadata": {},
     "output_type": "display_data"
    }
   ],
   "source": [
    "cust_df[cust_df.columns[1:]].hist(bins=30)"
   ]
  },
  {
   "cell_type": "markdown",
   "id": "b22b340a",
   "metadata": {},
   "source": [
    "### 총 고객 수 507, 대부분 고객이 한달에 1번 미만 구매하고, 한번 구매할 때 최소 200, 평균적으로 3000달러 쯤 쓴다.\n",
    "\n",
    "# 회사 : 컴퓨터 부품 제조회사, 고객 : 컴퓨터 부품 매장"
   ]
  },
  {
   "cell_type": "code",
   "execution_count": 20,
   "id": "b9def5f2",
   "metadata": {},
   "outputs": [
    {
     "data": {
      "image/png": "[encoded data removed]",
      "text/plain": [
       "<Figure size 640x480 with 1 Axes>"
      ]
     },
     "metadata": {},
     "output_type": "display_data"
    }
   ],
   "source": [
    "plt.scatter(cust_df['RecentOrder'], cust_df['SignupDays'], alpha=0.15)\n",
    "plt.ylabel('SignupDays Ago')\n",
    "plt.xlabel('RecentOrder')\n",
    "plt.gca().invert_xaxis()\n",
    "plt.show()\n",
    "# 한 점의 y축 - 가입지속 일 수, x축 - 최근 거래일    ( 같은 y에서 오른쪽에 있을 수록 R_score가 높은 점 )\n",
    "# SignupDays 가 낮은 고객은 신규고객 -> segment 1  회사 포스터, 회사 로고가 그려진 베개 등의 사은품을 동봉하여 보내서 \n",
    "                                                                    # 회사 내에 비치하도록 유도한다.\n",
    "# 맨 오른쪽 위의 점들은 4년넘게 구매를 해주는 고객들이다   -> segment 2  충성도가 높은 고객, 매장에서도 컴퓨터가 필요할테니 컴퓨터 완제품같은\n",
    "                                                        # 고비용의 기념선물을 보내주면 좋을 것 같다.\n",
    "\n",
    "# 대각선 위의 점들   -> segment 3   첫 구매 이후 거래가 없는 고객, 첫 구매에서 많이 구매한 제품들의 문제점을 파악하거나\n",
    "                        #  전화설문 등을 해서 특별할인코드, 마일리지 등을 설문 다음달에 제공하여 재 사용을 유도한다.\n",
    "                        #  설문 결과를 토대로 문제를 개선하고 개선점 체험을 유도하여 다시 고객이 되게 한다."
   ]
  },
  {
   "cell_type": "code",
   "execution_count": 21,
   "id": "7f231d59",
   "metadata": {},
   "outputs": [],
   "source": [
    "cust_df['Seg1'] = 0\n",
    "cust_df.loc[cust_df['SignupDays'] <= 60, 'Seg1'] = 1"
   ]
  },
  {
   "cell_type": "code",
   "execution_count": 22,
   "id": "ddcc4c1e",
   "metadata": {},
   "outputs": [
    {
     "data": {
      "text/plain": [
       "1.1340477752806735"
      ]
     },
     "execution_count": 22,
     "metadata": {},
     "output_type": "execute_result"
    }
   ],
   "source": [
    "(cust_df['Frequency'] / cust_df['SignupDays'] * 30).mean()  # 평균적으로 한달에 1.13번 구매\n",
    "                                                            # RecentOrder <= 60 & SignupDays >= 4년인 고객 -> segment 2"
   ]
  },
  {
   "cell_type": "code",
   "execution_count": 23,
   "id": "1b9e13a4",
   "metadata": {},
   "outputs": [
    {
     "data": {
      "text/plain": [
       "Timedelta('1461 days 00:00:00')"
      ]
     },
     "execution_count": 23,
     "metadata": {},
     "output_type": "execute_result"
    }
   ],
   "source": [
    "pd.to_datetime('2023-03-26') - pd.to_datetime('2019-03-26') "
   ]
  },
  {
   "cell_type": "code",
   "execution_count": 24,
   "id": "69570947",
   "metadata": {},
   "outputs": [],
   "source": [
    "cust_df['Seg2'] = 0\n",
    "cust_df.loc[(cust_df['SignupDays'] >= 1461) & (cust_df['RecentOrder'] <= 60), 'Seg2'] = 1\n"
   ]
  },
  {
   "cell_type": "code",
   "execution_count": 25,
   "id": "b7779324",
   "metadata": {},
   "outputs": [
    {
     "data": {
      "text/plain": [
       "Seg2\n",
       "0    424\n",
       "1     83\n",
       "Name: count, dtype: int64"
      ]
     },
     "execution_count": 25,
     "metadata": {},
     "output_type": "execute_result"
    }
   ],
   "source": [
    "cust_df['Seg2'].value_counts()"
   ]
  },
  {
   "cell_type": "code",
   "execution_count": 26,
   "id": "80504993",
   "metadata": {},
   "outputs": [],
   "source": [
    "cust_df['Seg3'] = 0\n",
    "cust_df.loc[(cust_df['SignupDays'] == cust_df['RecentOrder']) & (cust_df['SignupDays'] > 60), 'Seg3'] = 1"
   ]
  },
  {
   "cell_type": "code",
   "execution_count": 50,
   "id": "db8b1def",
   "metadata": {},
   "outputs": [
    {
     "data": {
      "text/plain": [
       "Seg3\n",
       "0    320\n",
       "1    187\n",
       "Name: count, dtype: int64"
      ]
     },
     "execution_count": 50,
     "metadata": {},
     "output_type": "execute_result"
    }
   ],
   "source": [
    "cust_df['Seg3'].value_counts() # 187 / 507 이 한번 이용하고 그만 두었거나 집계 이전부터 이용해오다가 이용을 그만 둠 "
   ]
  },
  {
   "cell_type": "code",
   "execution_count": 28,
   "id": "80b8a1e6",
   "metadata": {
    "scrolled": true
   },
   "outputs": [
    {
     "data": {
      "text/plain": [
       "count     507.000000\n",
       "mean      493.528600\n",
       "std       507.835425\n",
       "min         1.000000\n",
       "25%        30.000000\n",
       "50%       244.000000\n",
       "75%       936.500000\n",
       "max      1542.000000\n",
       "Name: RecentOrder, dtype: float64"
      ]
     },
     "execution_count": 28,
     "metadata": {},
     "output_type": "execute_result"
    }
   ],
   "source": [
    "cust_df['RecentOrder'].describe() "
   ]
  },
  {
   "cell_type": "code",
   "execution_count": 29,
   "id": "0e76b7d2",
   "metadata": {},
   "outputs": [
    {
     "data": {
      "text/plain": [
       "<Axes: >"
      ]
     },
     "execution_count": 29,
     "metadata": {},
     "output_type": "execute_result"
    },
    {
     "data": {
      "image/png": "[encoded data removed]",
      "text/plain": [
       "<Figure size 640x480 with 1 Axes>"
      ]
     },
     "metadata": {},
     "output_type": "display_data"
    }
   ],
   "source": [
    "cust_df.boxplot(column=['RecentOrder']) # 60, 244, 936 "
   ]
  },
  {
   "cell_type": "code",
   "execution_count": 30,
   "id": "381e20b9",
   "metadata": {},
   "outputs": [],
   "source": [
    "cust_df['R_Score'] = 2\n",
    "cust_df.loc[(cust_df['RecentOrder'] <=  60), 'R_Score'] = 3\n",
    "cust_df.loc[((cust_df['RecentOrder'] > 244) & (cust_df['RecentOrder'] < 936)), 'R_Score'] = 1\n",
    "cust_df.loc[(cust_df['RecentOrder'] >=  936), 'R_Score'] = 0"
   ]
  },
  {
   "cell_type": "code",
   "execution_count": 31,
   "id": "376706df",
   "metadata": {},
   "outputs": [
    {
     "data": {
      "text/plain": [
       "<Axes: xlabel='R_Score'>"
      ]
     },
     "execution_count": 31,
     "metadata": {},
     "output_type": "execute_result"
    },
    {
     "data": {
      "image/png": "[encoded data removed]",
      "text/plain": [
       "<Figure size 640x480 with 1 Axes>"
      ]
     },
     "metadata": {},
     "output_type": "display_data"
    }
   ],
   "source": [
    "cust_df['R_Score'].value_counts().sort_index().plot(kind=\"bar\")"
   ]
  },
  {
   "cell_type": "code",
   "execution_count": 32,
   "id": "0c3f2e4f",
   "metadata": {},
   "outputs": [
    {
     "data": {
      "text/plain": [
       "<Axes: >"
      ]
     },
     "execution_count": 32,
     "metadata": {},
     "output_type": "execute_result"
    },
    {
     "data": {
      "image/png": "[encoded data removed]",
      "text/plain": [
       "<Figure size 640x480 with 1 Axes>"
      ]
     },
     "metadata": {},
     "output_type": "display_data"
    }
   ],
   "source": [
    "cust_df.boxplot(column=['Frequency']) # 4년동안 집계된 고객이랑, 2년동안 집계된 고객이랑 차이날수밖에 없다."
   ]
  },
  {
   "cell_type": "code",
   "execution_count": 33,
   "id": "44bdee90",
   "metadata": {},
   "outputs": [
    {
     "data": {
      "text/html": [
       "<div>\n",
       "<style scoped>\n",
       "    .dataframe tbody tr th:only-of-type {\n",
       "        vertical-align: middle;\n",
       "    }\n",
       "\n",
       "    .dataframe tbody tr th {\n",
       "        vertical-align: top;\n",
       "    }\n",
       "\n",
       "    .dataframe thead th {\n",
       "        text-align: right;\n",
       "    }\n",
       "</style>\n",
       "<table border=\"1\" class=\"dataframe\">\n",
       "  <thead>\n",
       "    <tr style=\"text-align: right;\">\n",
       "      <th></th>\n",
       "      <th>CustomerID</th>\n",
       "      <th>SignupDays</th>\n",
       "      <th>RecentOrder</th>\n",
       "      <th>Frequency</th>\n",
       "      <th>Monetary</th>\n",
       "      <th>Seg1</th>\n",
       "      <th>Seg2</th>\n",
       "      <th>Seg3</th>\n",
       "      <th>R_Score</th>\n",
       "      <th>Freq/Signup</th>\n",
       "    </tr>\n",
       "  </thead>\n",
       "  <tbody>\n",
       "    <tr>\n",
       "      <th>0</th>\n",
       "      <td>230</td>\n",
       "      <td>1544</td>\n",
       "      <td>1</td>\n",
       "      <td>784</td>\n",
       "      <td>5444.248275</td>\n",
       "      <td>0</td>\n",
       "      <td>1</td>\n",
       "      <td>0</td>\n",
       "      <td>3</td>\n",
       "      <td>15.233161</td>\n",
       "    </tr>\n",
       "    <tr>\n",
       "      <th>1</th>\n",
       "      <td>267</td>\n",
       "      <td>1539</td>\n",
       "      <td>1181</td>\n",
       "      <td>36</td>\n",
       "      <td>971.872175</td>\n",
       "      <td>0</td>\n",
       "      <td>0</td>\n",
       "      <td>0</td>\n",
       "      <td>0</td>\n",
       "      <td>0.701754</td>\n",
       "    </tr>\n",
       "    <tr>\n",
       "      <th>2</th>\n",
       "      <td>129</td>\n",
       "      <td>1542</td>\n",
       "      <td>514</td>\n",
       "      <td>50</td>\n",
       "      <td>1659.880587</td>\n",
       "      <td>0</td>\n",
       "      <td>0</td>\n",
       "      <td>0</td>\n",
       "      <td>1</td>\n",
       "      <td>0.972763</td>\n",
       "    </tr>\n",
       "    <tr>\n",
       "      <th>3</th>\n",
       "      <td>344</td>\n",
       "      <td>1461</td>\n",
       "      <td>32</td>\n",
       "      <td>93</td>\n",
       "      <td>2383.916530</td>\n",
       "      <td>0</td>\n",
       "      <td>1</td>\n",
       "      <td>0</td>\n",
       "      <td>3</td>\n",
       "      <td>1.909651</td>\n",
       "    </tr>\n",
       "    <tr>\n",
       "      <th>4</th>\n",
       "      <td>117</td>\n",
       "      <td>1539</td>\n",
       "      <td>73</td>\n",
       "      <td>146</td>\n",
       "      <td>1759.190852</td>\n",
       "      <td>0</td>\n",
       "      <td>0</td>\n",
       "      <td>0</td>\n",
       "      <td>2</td>\n",
       "      <td>2.846004</td>\n",
       "    </tr>\n",
       "  </tbody>\n",
       "</table>\n",
       "</div>"
      ],
      "text/plain": [
       "   CustomerID  SignupDays  RecentOrder  Frequency     Monetary  Seg1  Seg2  \\\n",
       "0         230        1544            1        784  5444.248275     0     1   \n",
       "1         267        1539         1181         36   971.872175     0     0   \n",
       "2         129        1542          514         50  1659.880587     0     0   \n",
       "3         344        1461           32         93  2383.916530     0     1   \n",
       "4         117        1539           73        146  1759.190852     0     0   \n",
       "\n",
       "   Seg3  R_Score  Freq/Signup  \n",
       "0     0        3    15.233161  \n",
       "1     0        0     0.701754  \n",
       "2     0        1     0.972763  \n",
       "3     0        3     1.909651  \n",
       "4     0        2     2.846004  "
      ]
     },
     "execution_count": 33,
     "metadata": {},
     "output_type": "execute_result"
    }
   ],
   "source": [
    "cust_df['Freq/Signup'] = cust_df['Frequency']/cust_df['SignupDays'] * 30 # 30일 평균 freq\n",
    "cust_df.head()"
   ]
  },
  {
   "cell_type": "code",
   "execution_count": 34,
   "id": "654f3809",
   "metadata": {},
   "outputs": [
    {
     "data": {
      "text/plain": [
       "<Axes: >"
      ]
     },
     "execution_count": 34,
     "metadata": {},
     "output_type": "execute_result"
    },
    {
     "data": {
      "image/png": "[encoded data removed]",
      "text/plain": [
       "<Figure size 640x480 with 1 Axes>"
      ]
     },
     "metadata": {},
     "output_type": "display_data"
    }
   ],
   "source": [
    "cust_df[cust_df['Seg1'] != 1].boxplot(column=['Freq/Signup'])"
   ]
  },
  {
   "cell_type": "code",
   "execution_count": 35,
   "id": "668a99cc",
   "metadata": {},
   "outputs": [
    {
     "data": {
      "text/plain": [
       "count    507.000000\n",
       "mean       1.134048\n",
       "std        2.836724\n",
       "min        0.019455\n",
       "25%        0.046841\n",
       "50%        0.256410\n",
       "75%        1.217617\n",
       "max       49.921875\n",
       "Name: Freq/Signup, dtype: float64"
      ]
     },
     "execution_count": 35,
     "metadata": {},
     "output_type": "execute_result"
    }
   ],
   "source": [
    "cust_df['Freq/Signup'].describe() #평균이랑 3 사분위수가 거의 비슷하다 "
   ]
  },
  {
   "cell_type": "code",
   "execution_count": 36,
   "id": "41985cff",
   "metadata": {},
   "outputs": [
    {
     "data": {
      "text/html": [
       "<div>\n",
       "<style scoped>\n",
       "    .dataframe tbody tr th:only-of-type {\n",
       "        vertical-align: middle;\n",
       "    }\n",
       "\n",
       "    .dataframe tbody tr th {\n",
       "        vertical-align: top;\n",
       "    }\n",
       "\n",
       "    .dataframe thead th {\n",
       "        text-align: right;\n",
       "    }\n",
       "</style>\n",
       "<table border=\"1\" class=\"dataframe\">\n",
       "  <thead>\n",
       "    <tr style=\"text-align: right;\">\n",
       "      <th></th>\n",
       "      <th>CustomerID</th>\n",
       "      <th>SignupDays</th>\n",
       "      <th>RecentOrder</th>\n",
       "      <th>Frequency</th>\n",
       "      <th>Monetary</th>\n",
       "      <th>Seg1</th>\n",
       "      <th>Seg2</th>\n",
       "      <th>Seg3</th>\n",
       "      <th>R_Score</th>\n",
       "      <th>Freq/Signup</th>\n",
       "    </tr>\n",
       "  </thead>\n",
       "  <tbody>\n",
       "    <tr>\n",
       "      <th>305</th>\n",
       "      <td>233</td>\n",
       "      <td>128</td>\n",
       "      <td>1</td>\n",
       "      <td>213</td>\n",
       "      <td>5825.345761</td>\n",
       "      <td>0</td>\n",
       "      <td>0</td>\n",
       "      <td>0</td>\n",
       "      <td>3</td>\n",
       "      <td>49.921875</td>\n",
       "    </tr>\n",
       "  </tbody>\n",
       "</table>\n",
       "</div>"
      ],
      "text/plain": [
       "     CustomerID  SignupDays  RecentOrder  Frequency     Monetary  Seg1  Seg2  \\\n",
       "305         233         128            1        213  5825.345761     0     0   \n",
       "\n",
       "     Seg3  R_Score  Freq/Signup  \n",
       "305     0        3    49.921875  "
      ]
     },
     "execution_count": 36,
     "metadata": {},
     "output_type": "execute_result"
    }
   ],
   "source": [
    "cust_df[cust_df['Freq/Signup'] > 30] "
   ]
  },
  {
   "cell_type": "code",
   "execution_count": 37,
   "id": "d02b0e1d",
   "metadata": {},
   "outputs": [
    {
     "data": {
      "text/html": [
       "<div>\n",
       "<style scoped>\n",
       "    .dataframe tbody tr th:only-of-type {\n",
       "        vertical-align: middle;\n",
       "    }\n",
       "\n",
       "    .dataframe tbody tr th {\n",
       "        vertical-align: top;\n",
       "    }\n",
       "\n",
       "    .dataframe thead th {\n",
       "        text-align: right;\n",
       "    }\n",
       "</style>\n",
       "<table border=\"1\" class=\"dataframe\">\n",
       "  <thead>\n",
       "    <tr style=\"text-align: right;\">\n",
       "      <th></th>\n",
       "      <th>InvoiceID</th>\n",
       "      <th>Date</th>\n",
       "      <th>TotalSales</th>\n",
       "      <th>CustomerID</th>\n",
       "    </tr>\n",
       "  </thead>\n",
       "  <tbody>\n",
       "    <tr>\n",
       "      <th>24784</th>\n",
       "      <td>13396</td>\n",
       "      <td>2022-12-12</td>\n",
       "      <td>3703.389830</td>\n",
       "      <td>233</td>\n",
       "    </tr>\n",
       "    <tr>\n",
       "      <th>24823</th>\n",
       "      <td>13250</td>\n",
       "      <td>2022-11-25</td>\n",
       "      <td>1142.737288</td>\n",
       "      <td>233</td>\n",
       "    </tr>\n",
       "    <tr>\n",
       "      <th>24824</th>\n",
       "      <td>13251</td>\n",
       "      <td>2022-11-25</td>\n",
       "      <td>1142.737288</td>\n",
       "      <td>233</td>\n",
       "    </tr>\n",
       "    <tr>\n",
       "      <th>24825</th>\n",
       "      <td>13252</td>\n",
       "      <td>2022-11-25</td>\n",
       "      <td>1142.737288</td>\n",
       "      <td>233</td>\n",
       "    </tr>\n",
       "    <tr>\n",
       "      <th>24826</th>\n",
       "      <td>13316</td>\n",
       "      <td>2022-12-02</td>\n",
       "      <td>4805.423729</td>\n",
       "      <td>233</td>\n",
       "    </tr>\n",
       "    <tr>\n",
       "      <th>...</th>\n",
       "      <td>...</td>\n",
       "      <td>...</td>\n",
       "      <td>...</td>\n",
       "      <td>...</td>\n",
       "    </tr>\n",
       "    <tr>\n",
       "      <th>29034</th>\n",
       "      <td>13628</td>\n",
       "      <td>2023-01-14</td>\n",
       "      <td>8723.322034</td>\n",
       "      <td>233</td>\n",
       "    </tr>\n",
       "    <tr>\n",
       "      <th>29035</th>\n",
       "      <td>13629</td>\n",
       "      <td>2023-01-14</td>\n",
       "      <td>709.754237</td>\n",
       "      <td>233</td>\n",
       "    </tr>\n",
       "    <tr>\n",
       "      <th>29079</th>\n",
       "      <td>13606</td>\n",
       "      <td>2023-01-10</td>\n",
       "      <td>5945.016949</td>\n",
       "      <td>233</td>\n",
       "    </tr>\n",
       "    <tr>\n",
       "      <th>29086</th>\n",
       "      <td>13613</td>\n",
       "      <td>2023-01-12</td>\n",
       "      <td>1237.711864</td>\n",
       "      <td>233</td>\n",
       "    </tr>\n",
       "    <tr>\n",
       "      <th>29090</th>\n",
       "      <td>13617</td>\n",
       "      <td>2023-01-12</td>\n",
       "      <td>6736.728814</td>\n",
       "      <td>233</td>\n",
       "    </tr>\n",
       "  </tbody>\n",
       "</table>\n",
       "<p>235 rows × 4 columns</p>\n",
       "</div>"
      ],
      "text/plain": [
       "       InvoiceID       Date   TotalSales  CustomerID\n",
       "24784      13396 2022-12-12  3703.389830         233\n",
       "24823      13250 2022-11-25  1142.737288         233\n",
       "24824      13251 2022-11-25  1142.737288         233\n",
       "24825      13252 2022-11-25  1142.737288         233\n",
       "24826      13316 2022-12-02  4805.423729         233\n",
       "...          ...        ...          ...         ...\n",
       "29034      13628 2023-01-14  8723.322034         233\n",
       "29035      13629 2023-01-14   709.754237         233\n",
       "29079      13606 2023-01-10  5945.016949         233\n",
       "29086      13613 2023-01-12  1237.711864         233\n",
       "29090      13617 2023-01-12  6736.728814         233\n",
       "\n",
       "[235 rows x 4 columns]"
      ]
     },
     "execution_count": 37,
     "metadata": {},
     "output_type": "execute_result"
    }
   ],
   "source": [
    "df[df['CustomerID'] == 233] # 특이값때문에 Frequency가 들어가는 곳에서는 절사평균을 사용해야겠다고 생각이됨 "
   ]
  },
  {
   "cell_type": "code",
   "execution_count": 38,
   "id": "c8d52d6a",
   "metadata": {},
   "outputs": [
    {
     "data": {
      "text/plain": [
       "0.619746569947197"
      ]
     },
     "execution_count": 38,
     "metadata": {},
     "output_type": "execute_result"
    }
   ],
   "source": [
    "stats.trim_mean((cust_df['Frequency'] / cust_df['SignupDays'] * 30), 0.1)   # 그냥 평균은 1.13 1 \n",
    "                                                                            # 절사평균으로 구하면 평균적으로 한달에 0.62번정도\n",
    "                                                                            # 0.05, 0.25, 0.5, 1"
   ]
  },
  {
   "cell_type": "code",
   "execution_count": 39,
   "id": "cbf39d0e",
   "metadata": {},
   "outputs": [],
   "source": [
    "cust_df['F_Score'] = 3\n",
    "cust_df.loc[(cust_df['Freq/Signup'] >=  1), 'F_Score'] = 5\n",
    "cust_df.loc[((cust_df['Freq/Signup'] < 1) & (cust_df['Freq/Signup'] >= 0.5)), 'F_Score'] = 4\n",
    "cust_df.loc[((cust_df['Freq/Signup'] > 0.05) & (cust_df['Freq/Signup'] <= 0.25)), 'F_Score'] = 2\n",
    "cust_df.loc[(cust_df['Freq/Signup'] <=  0.05), 'F_Score'] = 1"
   ]
  },
  {
   "cell_type": "code",
   "execution_count": 40,
   "id": "9567b30d",
   "metadata": {},
   "outputs": [
    {
     "data": {
      "text/plain": [
       "<Axes: xlabel='F_Score'>"
      ]
     },
     "execution_count": 40,
     "metadata": {},
     "output_type": "execute_result"
    },
    {
     "data": {
      "image/png": "[encoded data removed]",
      "text/plain": [
       "<Figure size 640x480 with 1 Axes>"
      ]
     },
     "metadata": {},
     "output_type": "display_data"
    }
   ],
   "source": [
    "cust_df['F_Score'].value_counts().sort_index().plot(kind=\"bar\")"
   ]
  },
  {
   "cell_type": "code",
   "execution_count": 41,
   "id": "bcdb19a5",
   "metadata": {},
   "outputs": [
    {
     "data": {
      "text/plain": [
       "count      507.000000\n",
       "mean      3133.066154\n",
       "std       2885.956897\n",
       "min        233.050847\n",
       "25%       1193.633406\n",
       "50%       2203.389831\n",
       "75%       4040.091451\n",
       "max      21398.305085\n",
       "Name: Monetary, dtype: float64"
      ]
     },
     "execution_count": 41,
     "metadata": {},
     "output_type": "execute_result"
    }
   ],
   "source": [
    "cust_df['Monetary'].describe()"
   ]
  },
  {
   "cell_type": "code",
   "execution_count": 42,
   "id": "4ecccf56",
   "metadata": {},
   "outputs": [
    {
     "data": {
      "text/plain": [
       "<Axes: >"
      ]
     },
     "execution_count": 42,
     "metadata": {},
     "output_type": "execute_result"
    },
    {
     "data": {
      "image/png": "[encoded data removed]",
      "text/plain": [
       "<Figure size 640x480 with 1 Axes>"
      ]
     },
     "metadata": {},
     "output_type": "display_data"
    }
   ],
   "source": [
    "cust_df.boxplot(column=['Monetary']) # 1200, 2200, 4000, 8000"
   ]
  },
  {
   "cell_type": "code",
   "execution_count": 43,
   "id": "91ef9bc0",
   "metadata": {},
   "outputs": [],
   "source": [
    "cust_df['M_Score'] = 3\n",
    "cust_df.loc[(cust_df['Monetary'] >=  8000), 'M_Score'] = 5\n",
    "cust_df.loc[((cust_df['Monetary'] < 8000) & (cust_df['Monetary'] >= 4000)), 'M_Score'] = 4\n",
    "cust_df.loc[((cust_df['Monetary'] > 1200) & (cust_df['Monetary'] <= 2200)), 'M_Score'] = 2\n",
    "cust_df.loc[(cust_df['Monetary'] <=  1200), 'M_Score'] = 1"
   ]
  },
  {
   "cell_type": "code",
   "execution_count": 44,
   "id": "a717ed32",
   "metadata": {},
   "outputs": [
    {
     "data": {
      "text/plain": [
       "<Axes: xlabel='M_Score'>"
      ]
     },
     "execution_count": 44,
     "metadata": {},
     "output_type": "execute_result"
    },
    {
     "data": {
      "image/png": "[encoded data removed]",
      "text/plain": [
       "<Figure size 640x480 with 1 Axes>"
      ]
     },
     "metadata": {},
     "output_type": "display_data"
    }
   ],
   "source": [
    "cust_df['M_Score'].value_counts().sort_index().plot(kind=\"bar\")"
   ]
  },
  {
   "cell_type": "code",
   "execution_count": 45,
   "id": "8a2be441",
   "metadata": {},
   "outputs": [
    {
     "data": {
      "text/html": [
       "<div>\n",
       "<style scoped>\n",
       "    .dataframe tbody tr th:only-of-type {\n",
       "        vertical-align: middle;\n",
       "    }\n",
       "\n",
       "    .dataframe tbody tr th {\n",
       "        vertical-align: top;\n",
       "    }\n",
       "\n",
       "    .dataframe thead th {\n",
       "        text-align: right;\n",
       "    }\n",
       "</style>\n",
       "<table border=\"1\" class=\"dataframe\">\n",
       "  <thead>\n",
       "    <tr style=\"text-align: right;\">\n",
       "      <th></th>\n",
       "      <th>CustomerID</th>\n",
       "      <th>SignupDays</th>\n",
       "      <th>RecentOrder</th>\n",
       "      <th>Frequency</th>\n",
       "      <th>Monetary</th>\n",
       "      <th>Seg1</th>\n",
       "      <th>Seg2</th>\n",
       "      <th>Seg3</th>\n",
       "      <th>R_Score</th>\n",
       "      <th>Freq/Signup</th>\n",
       "      <th>F_Score</th>\n",
       "      <th>M_Score</th>\n",
       "    </tr>\n",
       "  </thead>\n",
       "  <tbody>\n",
       "    <tr>\n",
       "      <th>0</th>\n",
       "      <td>230</td>\n",
       "      <td>1544</td>\n",
       "      <td>1</td>\n",
       "      <td>784</td>\n",
       "      <td>5444.248275</td>\n",
       "      <td>0</td>\n",
       "      <td>1</td>\n",
       "      <td>0</td>\n",
       "      <td>3</td>\n",
       "      <td>15.233161</td>\n",
       "      <td>5</td>\n",
       "      <td>4</td>\n",
       "    </tr>\n",
       "    <tr>\n",
       "      <th>1</th>\n",
       "      <td>267</td>\n",
       "      <td>1539</td>\n",
       "      <td>1181</td>\n",
       "      <td>36</td>\n",
       "      <td>971.872175</td>\n",
       "      <td>0</td>\n",
       "      <td>0</td>\n",
       "      <td>0</td>\n",
       "      <td>0</td>\n",
       "      <td>0.701754</td>\n",
       "      <td>4</td>\n",
       "      <td>1</td>\n",
       "    </tr>\n",
       "    <tr>\n",
       "      <th>2</th>\n",
       "      <td>129</td>\n",
       "      <td>1542</td>\n",
       "      <td>514</td>\n",
       "      <td>50</td>\n",
       "      <td>1659.880587</td>\n",
       "      <td>0</td>\n",
       "      <td>0</td>\n",
       "      <td>0</td>\n",
       "      <td>1</td>\n",
       "      <td>0.972763</td>\n",
       "      <td>4</td>\n",
       "      <td>2</td>\n",
       "    </tr>\n",
       "    <tr>\n",
       "      <th>3</th>\n",
       "      <td>344</td>\n",
       "      <td>1461</td>\n",
       "      <td>32</td>\n",
       "      <td>93</td>\n",
       "      <td>2383.916530</td>\n",
       "      <td>0</td>\n",
       "      <td>1</td>\n",
       "      <td>0</td>\n",
       "      <td>3</td>\n",
       "      <td>1.909651</td>\n",
       "      <td>5</td>\n",
       "      <td>3</td>\n",
       "    </tr>\n",
       "    <tr>\n",
       "      <th>4</th>\n",
       "      <td>117</td>\n",
       "      <td>1539</td>\n",
       "      <td>73</td>\n",
       "      <td>146</td>\n",
       "      <td>1759.190852</td>\n",
       "      <td>0</td>\n",
       "      <td>0</td>\n",
       "      <td>0</td>\n",
       "      <td>2</td>\n",
       "      <td>2.846004</td>\n",
       "      <td>5</td>\n",
       "      <td>2</td>\n",
       "    </tr>\n",
       "  </tbody>\n",
       "</table>\n",
       "</div>"
      ],
      "text/plain": [
       "   CustomerID  SignupDays  RecentOrder  Frequency     Monetary  Seg1  Seg2  \\\n",
       "0         230        1544            1        784  5444.248275     0     1   \n",
       "1         267        1539         1181         36   971.872175     0     0   \n",
       "2         129        1542          514         50  1659.880587     0     0   \n",
       "3         344        1461           32         93  2383.916530     0     1   \n",
       "4         117        1539           73        146  1759.190852     0     0   \n",
       "\n",
       "   Seg3  R_Score  Freq/Signup  F_Score  M_Score  \n",
       "0     0        3    15.233161        5        4  \n",
       "1     0        0     0.701754        4        1  \n",
       "2     0        1     0.972763        4        2  \n",
       "3     0        3     1.909651        5        3  \n",
       "4     0        2     2.846004        5        2  "
      ]
     },
     "execution_count": 45,
     "metadata": {},
     "output_type": "execute_result"
    }
   ],
   "source": [
    "cust_df.head()"
   ]
  },
  {
   "cell_type": "code",
   "execution_count": 46,
   "id": "30839782",
   "metadata": {},
   "outputs": [
    {
     "data": {
      "text/html": [
       "<div>\n",
       "<style scoped>\n",
       "    .dataframe tbody tr th:only-of-type {\n",
       "        vertical-align: middle;\n",
       "    }\n",
       "\n",
       "    .dataframe tbody tr th {\n",
       "        vertical-align: top;\n",
       "    }\n",
       "\n",
       "    .dataframe thead th {\n",
       "        text-align: right;\n",
       "    }\n",
       "</style>\n",
       "<table border=\"1\" class=\"dataframe\">\n",
       "  <thead>\n",
       "    <tr style=\"text-align: right;\">\n",
       "      <th></th>\n",
       "      <th>CustomerID</th>\n",
       "      <th>Seg1</th>\n",
       "      <th>Seg2</th>\n",
       "      <th>Seg3</th>\n",
       "      <th>R_Score</th>\n",
       "      <th>F_Score</th>\n",
       "      <th>M_Score</th>\n",
       "    </tr>\n",
       "  </thead>\n",
       "  <tbody>\n",
       "    <tr>\n",
       "      <th>0</th>\n",
       "      <td>230</td>\n",
       "      <td>0</td>\n",
       "      <td>1</td>\n",
       "      <td>0</td>\n",
       "      <td>3</td>\n",
       "      <td>5</td>\n",
       "      <td>4</td>\n",
       "    </tr>\n",
       "    <tr>\n",
       "      <th>1</th>\n",
       "      <td>267</td>\n",
       "      <td>0</td>\n",
       "      <td>0</td>\n",
       "      <td>0</td>\n",
       "      <td>0</td>\n",
       "      <td>4</td>\n",
       "      <td>1</td>\n",
       "    </tr>\n",
       "    <tr>\n",
       "      <th>2</th>\n",
       "      <td>129</td>\n",
       "      <td>0</td>\n",
       "      <td>0</td>\n",
       "      <td>0</td>\n",
       "      <td>1</td>\n",
       "      <td>4</td>\n",
       "      <td>2</td>\n",
       "    </tr>\n",
       "    <tr>\n",
       "      <th>3</th>\n",
       "      <td>344</td>\n",
       "      <td>0</td>\n",
       "      <td>1</td>\n",
       "      <td>0</td>\n",
       "      <td>3</td>\n",
       "      <td>5</td>\n",
       "      <td>3</td>\n",
       "    </tr>\n",
       "    <tr>\n",
       "      <th>4</th>\n",
       "      <td>117</td>\n",
       "      <td>0</td>\n",
       "      <td>0</td>\n",
       "      <td>0</td>\n",
       "      <td>2</td>\n",
       "      <td>5</td>\n",
       "      <td>2</td>\n",
       "    </tr>\n",
       "    <tr>\n",
       "      <th>5</th>\n",
       "      <td>181</td>\n",
       "      <td>0</td>\n",
       "      <td>1</td>\n",
       "      <td>0</td>\n",
       "      <td>3</td>\n",
       "      <td>5</td>\n",
       "      <td>3</td>\n",
       "    </tr>\n",
       "    <tr>\n",
       "      <th>6</th>\n",
       "      <td>454</td>\n",
       "      <td>0</td>\n",
       "      <td>1</td>\n",
       "      <td>0</td>\n",
       "      <td>3</td>\n",
       "      <td>5</td>\n",
       "      <td>3</td>\n",
       "    </tr>\n",
       "    <tr>\n",
       "      <th>7</th>\n",
       "      <td>191</td>\n",
       "      <td>0</td>\n",
       "      <td>1</td>\n",
       "      <td>0</td>\n",
       "      <td>3</td>\n",
       "      <td>5</td>\n",
       "      <td>4</td>\n",
       "    </tr>\n",
       "    <tr>\n",
       "      <th>8</th>\n",
       "      <td>270</td>\n",
       "      <td>0</td>\n",
       "      <td>1</td>\n",
       "      <td>0</td>\n",
       "      <td>3</td>\n",
       "      <td>5</td>\n",
       "      <td>3</td>\n",
       "    </tr>\n",
       "    <tr>\n",
       "      <th>9</th>\n",
       "      <td>452</td>\n",
       "      <td>0</td>\n",
       "      <td>1</td>\n",
       "      <td>0</td>\n",
       "      <td>3</td>\n",
       "      <td>2</td>\n",
       "      <td>2</td>\n",
       "    </tr>\n",
       "  </tbody>\n",
       "</table>\n",
       "</div>"
      ],
      "text/plain": [
       "   CustomerID  Seg1  Seg2  Seg3  R_Score  F_Score  M_Score\n",
       "0         230     0     1     0        3        5        4\n",
       "1         267     0     0     0        0        4        1\n",
       "2         129     0     0     0        1        4        2\n",
       "3         344     0     1     0        3        5        3\n",
       "4         117     0     0     0        2        5        2\n",
       "5         181     0     1     0        3        5        3\n",
       "6         454     0     1     0        3        5        3\n",
       "7         191     0     1     0        3        5        4\n",
       "8         270     0     1     0        3        5        3\n",
       "9         452     0     1     0        3        2        2"
      ]
     },
     "execution_count": 46,
     "metadata": {},
     "output_type": "execute_result"
    }
   ],
   "source": [
    "RFM_df = cust_df[['CustomerID', 'Seg1', 'Seg2', 'Seg3', 'R_Score', 'F_Score', 'M_Score']]\n",
    "# RFM_df.shape -> (507, 7)\n",
    "RFM_df.head(10)\n",
    "# Seg1 = 신규고객  NewComer  \n",
    "# Seg3 = 휴면고객                                                     Inactive\n",
    "# Seg4 = 돈을 많이쓰지만(F,M이 높은) 최근 주문이 없는(R이 낮은) 고객  Prime\n",
    "# Seg5 = 돈을 많이쓰고 최근에도 주문을 한 고객(최고의 고객)           HighValue\n",
    "# 나머지 = 일반적인 마케팅                                            Others\n",
    "\n",
    "# Seg2 = 충성적인 고객 (고객감사선물 보내주기)                        ExtraGift "
   ]
  },
  {
   "cell_type": "code",
   "execution_count": 47,
   "id": "ed0a04b7",
   "metadata": {},
   "outputs": [
    {
     "name": "stderr",
     "output_type": "stream",
     "text": [
      "/var/folders/bs/pd1ffxhj4pj0vljl0w05mq1m0000gn/T/ipykernel_1580/1351396662.py:1: SettingWithCopyWarning: \n",
      "A value is trying to be set on a copy of a slice from a DataFrame.\n",
      "Try using .loc[row_indexer,col_indexer] = value instead\n",
      "\n",
      "See the caveats in the documentation: https://pandas.pydata.org/pandas-docs/stable/user_guide/indexing.html#returning-a-view-versus-a-copy\n",
      "  RFM_df['Segment'] = 'Others'\n"
     ]
    }
   ],
   "source": [
    "RFM_df['Segment'] = 'Others'\n",
    "RFM_df.loc[(RFM_df['R_Score'] >= 2) & ((RFM_df['F_Score'] + RFM_df['M_Score']) >= 7), 'Segment'] = 'Prime'\n",
    "RFM_df.loc[(RFM_df['R_Score'] < 2) & ((RFM_df['F_Score'] + RFM_df['M_Score']) >= 7), 'Segment'] = 'HighValue'\n",
    "RFM_df.loc[RFM_df['Seg1'] == 1, 'Segment'] = 'NewComer'\n",
    "RFM_df.loc[RFM_df['Seg3'] == 1, 'Segment'] = 'Inactive'\n",
    "RFM_df.loc[RFM_df['Seg2'] == 1, 'Segment'] += ' + ExtraGift'"
   ]
  },
  {
   "cell_type": "code",
   "execution_count": 48,
   "id": "f3b62a18",
   "metadata": {
    "scrolled": true
   },
   "outputs": [],
   "source": [
    "tmp = RFM_df['Segment'].value_counts().sort_index()"
   ]
  },
  {
   "cell_type": "code",
   "execution_count": 49,
   "id": "ee26005d",
   "metadata": {},
   "outputs": [
    {
     "data": {
      "image/png": "[encoded data removed]",
      "text/plain": [
       "<Figure size 640x480 with 1 Axes>"
      ]
     },
     "metadata": {},
     "output_type": "display_data"
    }
   ],
   "source": [
    "cmap = {}\n",
    "\n",
    "for idx in tmp.index:\n",
    "    first_letter = idx[0]\n",
    "    if first_letter not in cmap:\n",
    "        cmap[first_letter] = plt.cm.tab10.colors[len(cmap) % len(plt.cm.tab10.colors)]\n",
    "\n",
    "colors = [cmap[idx[0]] for idx in tmp.index]\n",
    "explode = [0.02 for i in range(len(tmp))]\n",
    "plt.pie(tmp.values, labels=tmp.index, explode=explode, colors=colors)\n",
    "plt.show()"
   ]
  },
  {
   "cell_type": "markdown",
   "id": "9e1c0746",
   "metadata": {},
   "source": [
    "### HighValue와 Prime은 대형 컴퓨터부품 도매업자 \n",
    "\n",
    "### NewComer : 신규고객\n",
    "    잠재적으로 돈을 많이 쓰는 고객을 유치하도록 회사 포스터, 회사 로고가 그려진 베개 등의 사은품을 동봉하여 보내서 매장에 비치하도록 유도하고,\n",
    "    회사에 친밀감을 가지도록한다.\n",
    "\n",
    "### Inactive : 첫 구매 이후 거래가 없는 고객, 잠재적으로 돈을 많이 쓰는 고객이 있을 수 있다.\n",
    "    첫 구매에서 많이 구매한 제품들의 문제점을 파악하거나 전화설문 등을 해서 특별할인코드, 마일리지 등을 설문 다음달에 제공하여 재사용을 유도\n",
    "    설문 결과를 토대로 문제를 개선하고 개선점 체험을 유도하여 다시 고객이 되게 한다. ( + 신규고객 혜택까지 제공 )\n",
    "\n",
    "### HighValue : F, M이 높고 R이 낮은 고객(이탈한 우수고객)\n",
    "    고객이 가장 많이 이탈하게 된 경쟁사의 혜택을 파악하고 그보다 더 좋은 혜택 제안과 함께 공식적으로 제휴를 맺는다.\n",
    "\n",
    "### Prime : R, F, M 모두 높은 고객\n",
    "    공식적으로 제휴를 맺고, 신제품이 나오면 물량을 가장 우선적으로 제공, 공식사이트에 회사 공식판매처로 등재하는 등의 혜택을 제공해준다.\n",
    "\n",
    "### Others : F, M이 그저 그런 나머지고객 \n",
    "    따로 혜택을 제공해주지 않는다. \n",
    "\n",
    "### ExtraGift : 오랜 기간동안 찾아준 충성도가 높은 고객\n",
    "    매장에서도 컴퓨터가 필요할테니 컴퓨터 완제품같은 고비용의 기념선물을 보내준다면 큰 유대감이 생겨서 절대 이탈고객이 되지 않을것이다."
   ]
  },
  {
   "cell_type": "code",
   "execution_count": null,
   "id": "a6ffe2dc",
   "metadata": {},
   "outputs": [],
   "source": []
  }
 ],
 "metadata": {
  "kernelspec": {
   "display_name": "Python 3 (ipykernel)",
   "language": "python",
   "name": "python3"
  },
  "language_info": {
   "codemirror_mode": {
    "name": "ipython",
    "version": 3
   },
   "file_extension": ".py",
   "mimetype": "text/x-python",
   "name": "python",
   "nbconvert_exporter": "python",
   "pygments_lexer": "ipython3",
   "version": "3.12.4"
  }
 },
 "nbformat": 4,
 "nbformat_minor": 5
}
